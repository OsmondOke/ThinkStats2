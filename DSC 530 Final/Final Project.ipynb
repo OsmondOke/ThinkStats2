{
 "cells": [
  {
   "cell_type": "code",
   "execution_count": 1,
   "metadata": {},
   "outputs": [],
   "source": [
    "\n",
    "import matplotlib.pyplot as plt\n",
    "import numpy as np\n",
    "import pandas as pd\n",
    "from pandas import Series, DataFrame\n",
    "\n",
    "import thinkstats2 \n",
    "import thinkplot\n",
    "import scipy\n",
    "from scipy import stats\n",
    "\n",
    "from pylab import rcParams\n",
    "\n"
   ]
  },
  {
   "cell_type": "code",
   "execution_count": 2,
   "metadata": {},
   "outputs": [],
   "source": [
    "from pathlib import Path\n"
   ]
  },
  {
   "cell_type": "code",
   "execution_count": 3,
   "metadata": {},
   "outputs": [
    {
     "data": {
      "text/html": [
       "<div>\n",
       "<style scoped>\n",
       "    .dataframe tbody tr th:only-of-type {\n",
       "        vertical-align: middle;\n",
       "    }\n",
       "\n",
       "    .dataframe tbody tr th {\n",
       "        vertical-align: top;\n",
       "    }\n",
       "\n",
       "    .dataframe thead th {\n",
       "        text-align: right;\n",
       "    }\n",
       "</style>\n",
       "<table border=\"1\" class=\"dataframe\">\n",
       "  <thead>\n",
       "    <tr style=\"text-align: right;\">\n",
       "      <th></th>\n",
       "      <th>Name</th>\n",
       "      <th>Games Played</th>\n",
       "      <th>MIN</th>\n",
       "      <th>PTS</th>\n",
       "      <th>FGM</th>\n",
       "      <th>FGA</th>\n",
       "      <th>FG%</th>\n",
       "      <th>3PM</th>\n",
       "      <th>3PA</th>\n",
       "      <th>3P%</th>\n",
       "      <th>...</th>\n",
       "      <th>Age</th>\n",
       "      <th>Birth_Place</th>\n",
       "      <th>Birthdate</th>\n",
       "      <th>Collage</th>\n",
       "      <th>Experience</th>\n",
       "      <th>Height</th>\n",
       "      <th>Pos</th>\n",
       "      <th>Team</th>\n",
       "      <th>Weight</th>\n",
       "      <th>BMI</th>\n",
       "    </tr>\n",
       "  </thead>\n",
       "  <tbody>\n",
       "    <tr>\n",
       "      <th>0</th>\n",
       "      <td>AJ Price</td>\n",
       "      <td>26</td>\n",
       "      <td>324</td>\n",
       "      <td>133</td>\n",
       "      <td>51</td>\n",
       "      <td>137</td>\n",
       "      <td>37.2</td>\n",
       "      <td>15</td>\n",
       "      <td>57</td>\n",
       "      <td>26.3</td>\n",
       "      <td>...</td>\n",
       "      <td>29.0</td>\n",
       "      <td>us</td>\n",
       "      <td>October 7, 1986</td>\n",
       "      <td>University of Connecticut</td>\n",
       "      <td>5</td>\n",
       "      <td>185.0</td>\n",
       "      <td>PG</td>\n",
       "      <td>PHO</td>\n",
       "      <td>81.45</td>\n",
       "      <td>23.798393</td>\n",
       "    </tr>\n",
       "    <tr>\n",
       "      <th>1</th>\n",
       "      <td>Aaron Brooks</td>\n",
       "      <td>82</td>\n",
       "      <td>1885</td>\n",
       "      <td>954</td>\n",
       "      <td>344</td>\n",
       "      <td>817</td>\n",
       "      <td>42.1</td>\n",
       "      <td>121</td>\n",
       "      <td>313</td>\n",
       "      <td>38.7</td>\n",
       "      <td>...</td>\n",
       "      <td>30.0</td>\n",
       "      <td>us</td>\n",
       "      <td>January 14, 1985</td>\n",
       "      <td>University of Oregon</td>\n",
       "      <td>6</td>\n",
       "      <td>180.0</td>\n",
       "      <td>PG</td>\n",
       "      <td>CHI</td>\n",
       "      <td>72.45</td>\n",
       "      <td>22.361111</td>\n",
       "    </tr>\n",
       "    <tr>\n",
       "      <th>2</th>\n",
       "      <td>Aaron Gordon</td>\n",
       "      <td>47</td>\n",
       "      <td>797</td>\n",
       "      <td>243</td>\n",
       "      <td>93</td>\n",
       "      <td>208</td>\n",
       "      <td>44.7</td>\n",
       "      <td>13</td>\n",
       "      <td>48</td>\n",
       "      <td>27.1</td>\n",
       "      <td>...</td>\n",
       "      <td>20.0</td>\n",
       "      <td>us</td>\n",
       "      <td>September 16, 1995</td>\n",
       "      <td>University of Arizona</td>\n",
       "      <td>R</td>\n",
       "      <td>202.5</td>\n",
       "      <td>PF</td>\n",
       "      <td>ORL</td>\n",
       "      <td>99.00</td>\n",
       "      <td>24.142661</td>\n",
       "    </tr>\n",
       "    <tr>\n",
       "      <th>3</th>\n",
       "      <td>Adreian Payne</td>\n",
       "      <td>32</td>\n",
       "      <td>740</td>\n",
       "      <td>213</td>\n",
       "      <td>91</td>\n",
       "      <td>220</td>\n",
       "      <td>41.4</td>\n",
       "      <td>1</td>\n",
       "      <td>9</td>\n",
       "      <td>11.1</td>\n",
       "      <td>...</td>\n",
       "      <td>24.0</td>\n",
       "      <td>us</td>\n",
       "      <td>February 19, 1991</td>\n",
       "      <td>Michigan State University</td>\n",
       "      <td>R</td>\n",
       "      <td>205.0</td>\n",
       "      <td>PF</td>\n",
       "      <td>ATL</td>\n",
       "      <td>106.65</td>\n",
       "      <td>25.377751</td>\n",
       "    </tr>\n",
       "    <tr>\n",
       "      <th>4</th>\n",
       "      <td>Al Horford</td>\n",
       "      <td>76</td>\n",
       "      <td>2318</td>\n",
       "      <td>1156</td>\n",
       "      <td>519</td>\n",
       "      <td>965</td>\n",
       "      <td>53.8</td>\n",
       "      <td>11</td>\n",
       "      <td>36</td>\n",
       "      <td>30.6</td>\n",
       "      <td>...</td>\n",
       "      <td>29.0</td>\n",
       "      <td>do</td>\n",
       "      <td>June 3, 1986</td>\n",
       "      <td>University of Florida</td>\n",
       "      <td>7</td>\n",
       "      <td>205.0</td>\n",
       "      <td>C</td>\n",
       "      <td>ATL</td>\n",
       "      <td>110.25</td>\n",
       "      <td>26.234384</td>\n",
       "    </tr>\n",
       "  </tbody>\n",
       "</table>\n",
       "<p>5 rows × 34 columns</p>\n",
       "</div>"
      ],
      "text/plain": [
       "            Name  Games Played   MIN   PTS  FGM  FGA   FG%  3PM  3PA   3P%  \\\n",
       "0       AJ Price            26   324   133   51  137  37.2   15   57  26.3   \n",
       "1   Aaron Brooks            82  1885   954  344  817  42.1  121  313  38.7   \n",
       "2   Aaron Gordon            47   797   243   93  208  44.7   13   48  27.1   \n",
       "3  Adreian Payne            32   740   213   91  220  41.4    1    9  11.1   \n",
       "4     Al Horford            76  2318  1156  519  965  53.8   11   36  30.6   \n",
       "\n",
       "   ...   Age  Birth_Place           Birthdate                    Collage  \\\n",
       "0  ...  29.0           us     October 7, 1986  University of Connecticut   \n",
       "1  ...  30.0           us    January 14, 1985       University of Oregon   \n",
       "2  ...  20.0           us  September 16, 1995      University of Arizona   \n",
       "3  ...  24.0           us   February 19, 1991  Michigan State University   \n",
       "4  ...  29.0           do        June 3, 1986      University of Florida   \n",
       "\n",
       "   Experience  Height  Pos  Team  Weight        BMI  \n",
       "0           5   185.0   PG   PHO   81.45  23.798393  \n",
       "1           6   180.0   PG   CHI   72.45  22.361111  \n",
       "2           R   202.5   PF   ORL   99.00  24.142661  \n",
       "3           R   205.0   PF   ATL  106.65  25.377751  \n",
       "4           7   205.0    C   ATL  110.25  26.234384  \n",
       "\n",
       "[5 rows x 34 columns]"
      ]
     },
     "execution_count": 3,
     "metadata": {},
     "output_type": "execute_result"
    }
   ],
   "source": [
    "nba = pd.read_csv(\"C:\\\\Users\\\\osmon\\\\Desktop\\stats.csv\")\n",
    "nba.head()"
   ]
  },
  {
   "cell_type": "code",
   "execution_count": 4,
   "metadata": {},
   "outputs": [
    {
     "data": {
      "text/plain": [
       "0      29.0\n",
       "1      30.0\n",
       "2      20.0\n",
       "3      24.0\n",
       "4      29.0\n",
       "       ... \n",
       "485    24.0\n",
       "486    20.0\n",
       "487    34.0\n",
       "488    31.0\n",
       "489    26.0\n",
       "Name: Age, Length: 490, dtype: float64"
      ]
     },
     "execution_count": 4,
     "metadata": {},
     "output_type": "execute_result"
    }
   ],
   "source": [
    "age= nba['Age']\n",
    "age"
   ]
  },
  {
   "cell_type": "code",
   "execution_count": 5,
   "metadata": {},
   "outputs": [
    {
     "name": "stderr",
     "output_type": "stream",
     "text": [
      "C:\\Users\\osmon\\anaconda3\\lib\\site-packages\\numpy\\lib\\histograms.py:839: RuntimeWarning: invalid value encountered in greater_equal\n",
      "  keep = (tmp_a >= first_edge)\n",
      "C:\\Users\\osmon\\anaconda3\\lib\\site-packages\\numpy\\lib\\histograms.py:840: RuntimeWarning: invalid value encountered in less_equal\n",
      "  keep &= (tmp_a <= last_edge)\n"
     ]
    },
    {
     "data": {
      "text/plain": [
       "<function matplotlib.pyplot.show(*args, **kw)>"
      ]
     },
     "execution_count": 5,
     "metadata": {},
     "output_type": "execute_result"
    },
    {
     "data": {
      "image/png": "[encoded data removed]",
      "text/plain": [
       "<Figure size 432x288 with 1 Axes>"
      ]
     },
     "metadata": {
      "needs_background": "light"
     },
     "output_type": "display_data"
    }
   ],
   "source": [
    "plt.hist(age)\n",
    "plt.title('Plot for Variable: Age')\n",
    "plt.xlabel('Age')\n",
    "plt.ylabel('Frequency')\n",
    "plt.ylim(0, 200)\n",
    "plt.show"
   ]
  },
  {
   "cell_type": "code",
   "execution_count": 6,
   "metadata": {},
   "outputs": [
    {
     "data": {
      "text/plain": [
       "0      26\n",
       "1      82\n",
       "2      47\n",
       "3      32\n",
       "4      76\n",
       "       ..\n",
       "485     9\n",
       "486    77\n",
       "487    71\n",
       "488    73\n",
       "489    16\n",
       "Name: Games Played, Length: 490, dtype: int64"
      ]
     },
     "execution_count": 6,
     "metadata": {},
     "output_type": "execute_result"
    }
   ],
   "source": [
    "games = nba['Games Played']\n",
    "games"
   ]
  },
  {
   "cell_type": "code",
   "execution_count": 7,
   "metadata": {},
   "outputs": [
    {
     "data": {
      "text/plain": [
       "<function matplotlib.pyplot.show(*args, **kw)>"
      ]
     },
     "execution_count": 7,
     "metadata": {},
     "output_type": "execute_result"
    },
    {
     "data": {
      "image/png": "[encoded data removed]",
      "text/plain": [
       "<Figure size 432x288 with 1 Axes>"
      ]
     },
     "metadata": {
      "needs_background": "light"
     },
     "output_type": "display_data"
    }
   ],
   "source": [
    "plt.hist(games)\n",
    "plt.title('Plot for Variable: Games Played')\n",
    "plt.xlabel('Games Played')\n",
    "plt.ylabel('frequency')\n",
    "plt.show"
   ]
  },
  {
   "cell_type": "code",
   "execution_count": 8,
   "metadata": {},
   "outputs": [
    {
     "data": {
      "text/plain": [
       "0       133\n",
       "1       954\n",
       "2       243\n",
       "3       213\n",
       "4      1156\n",
       "       ... \n",
       "485      20\n",
       "486     778\n",
       "487    1143\n",
       "488     606\n",
       "489      28\n",
       "Name: PTS, Length: 490, dtype: int64"
      ]
     },
     "execution_count": 8,
     "metadata": {},
     "output_type": "execute_result"
    }
   ],
   "source": [
    "pt = nba['PTS']\n",
    "pt"
   ]
  },
  {
   "cell_type": "code",
   "execution_count": 9,
   "metadata": {},
   "outputs": [
    {
     "data": {
      "text/plain": [
       "0       324\n",
       "1      1885\n",
       "2       797\n",
       "3       740\n",
       "4      2318\n",
       "       ... \n",
       "485      86\n",
       "486    1902\n",
       "487    2304\n",
       "488    1730\n",
       "489      75\n",
       "Name: MIN, Length: 490, dtype: int64"
      ]
     },
     "execution_count": 9,
     "metadata": {},
     "output_type": "execute_result"
    }
   ],
   "source": [
    "mins = nba['MIN']\n",
    "mins"
   ]
  },
  {
   "cell_type": "code",
   "execution_count": 10,
   "metadata": {},
   "outputs": [
    {
     "data": {
      "text/plain": [
       "0      0.410494\n",
       "1      0.506101\n",
       "2      0.304893\n",
       "3      0.287838\n",
       "4      0.498706\n",
       "         ...   \n",
       "485    0.232558\n",
       "486    0.409043\n",
       "487    0.496094\n",
       "488    0.350289\n",
       "489    0.373333\n",
       "Length: 490, dtype: float64"
      ]
     },
     "execution_count": 10,
     "metadata": {},
     "output_type": "execute_result"
    }
   ],
   "source": [
    "pt_mins = pt/mins\n",
    "pt_mins"
   ]
  },
  {
   "cell_type": "code",
   "execution_count": 11,
   "metadata": {},
   "outputs": [
    {
     "data": {
      "text/plain": [
       "<function matplotlib.pyplot.show(*args, **kw)>"
      ]
     },
     "execution_count": 11,
     "metadata": {},
     "output_type": "execute_result"
    },
    {
     "data": {
      "image/png": "[encoded data removed]",
      "text/plain": [
       "<Figure size 432x288 with 1 Axes>"
      ]
     },
     "metadata": {
      "needs_background": "light"
     },
     "output_type": "display_data"
    }
   ],
   "source": [
    "plt.hist(pt_mins)\n",
    "plt.title('Plot for Variable: Points per Minute')\n",
    "plt.xlabel('Count')\n",
    "plt.ylabel('frequency')\n",
    "plt.show"
   ]
  },
  {
   "cell_type": "code",
   "execution_count": 12,
   "metadata": {},
   "outputs": [
    {
     "data": {
      "text/plain": [
       "0      6.089533\n",
       "1      5.924951\n",
       "2      6.665569\n",
       "3      6.747860\n",
       "4      6.747860\n",
       "         ...   \n",
       "485    6.418697\n",
       "486    6.336406\n",
       "487    6.665569\n",
       "488    6.830151\n",
       "489    6.336406\n",
       "Name: Height, Length: 490, dtype: float64"
      ]
     },
     "execution_count": 12,
     "metadata": {},
     "output_type": "execute_result"
    }
   ],
   "source": [
    "height_cm = nba['Height']\n",
    "height = height_cm/30.38\n",
    "height"
   ]
  },
  {
   "cell_type": "code",
   "execution_count": 13,
   "metadata": {},
   "outputs": [
    {
     "data": {
      "text/plain": [
       "<function matplotlib.pyplot.show(*args, **kw)>"
      ]
     },
     "execution_count": 13,
     "metadata": {},
     "output_type": "execute_result"
    },
    {
     "data": {
      "image/png": "[encoded data removed]",
      "text/plain": [
       "<Figure size 432x288 with 1 Axes>"
      ]
     },
     "metadata": {
      "needs_background": "light"
     },
     "output_type": "display_data"
    }
   ],
   "source": [
    "plt.hist(height)\n",
    "plt.title('Plot for Variable: Heights of NBA Players in Feet')\n",
    "plt.xlabel('Height')\n",
    "plt.ylabel('frequency')\n",
    "plt.show"
   ]
  },
  {
   "cell_type": "code",
   "execution_count": 14,
   "metadata": {},
   "outputs": [
    {
     "data": {
      "text/plain": [
       "0      179.19\n",
       "1      159.39\n",
       "2      217.80\n",
       "3      234.63\n",
       "4      242.55\n",
       "        ...  \n",
       "485    217.80\n",
       "486    187.11\n",
       "487    257.40\n",
       "488    267.30\n",
       "489    198.00\n",
       "Name: Weight, Length: 490, dtype: float64"
      ]
     },
     "execution_count": 14,
     "metadata": {},
     "output_type": "execute_result"
    }
   ],
   "source": [
    "weight_kg = nba['Weight']\n",
    "weight = weight_kg * 2.2\n",
    "weight"
   ]
  },
  {
   "cell_type": "code",
   "execution_count": 15,
   "metadata": {},
   "outputs": [
    {
     "data": {
      "text/plain": [
       "<function matplotlib.pyplot.show(*args, **kw)>"
      ]
     },
     "execution_count": 15,
     "metadata": {},
     "output_type": "execute_result"
    },
    {
     "data": {
      "image/png": "[encoded data removed]",
      "text/plain": [
       "<Figure size 432x288 with 1 Axes>"
      ]
     },
     "metadata": {
      "needs_background": "light"
     },
     "output_type": "display_data"
    }
   ],
   "source": [
    "plt.hist(weight)\n",
    "plt.title('Plot for Variable: NBA Players Weight')\n",
    "plt.xlabel('Weight')\n",
    "plt.ylabel('frequency')\n",
    "plt.ylim(0,110)\n",
    "plt.show"
   ]
  },
  {
   "cell_type": "code",
   "execution_count": 16,
   "metadata": {},
   "outputs": [
    {
     "data": {
      "text/plain": [
       "Name            AJ PriceAaron BrooksAaron GordonAdreian PayneA...\n",
       "Games Played                                                25977\n",
       "MIN                                                        595210\n",
       "PTS                                                        246033\n",
       "FGM                                                         92286\n",
       "FGA                                                        205568\n",
       "FG%                                                       21118.6\n",
       "3PM                                                         19300\n",
       "3PA                                                         55137\n",
       "3P%                                                       12504.4\n",
       "FTM                                                         42161\n",
       "FTA                                                         56198\n",
       "FT%                                                       34520.7\n",
       "OREB                                                        26781\n",
       "DREB                                                        79722\n",
       "REB                                                        106503\n",
       "AST                                                         54202\n",
       "STL                                                         19031\n",
       "BLK                                                         11797\n",
       "TOV                                                         33725\n",
       "PF                                                          49727\n",
       "EFF                                                        276522\n",
       "AST/TOV                                                    718.26\n",
       "STL/TOV                                                    306.74\n",
       "Age                                                         11608\n",
       "Height                                                      83320\n",
       "Weight                                                      41976\n",
       "BMI                                                       10730.5\n",
       "dtype: object"
      ]
     },
     "execution_count": 16,
     "metadata": {},
     "output_type": "execute_result"
    }
   ],
   "source": [
    "nba.sum()\n"
   ]
  },
  {
   "cell_type": "code",
   "execution_count": 17,
   "metadata": {},
   "outputs": [
    {
     "data": {
      "text/plain": [
       "0      1492.238393\n",
       "1      7104.911111\n",
       "2      2897.962661\n",
       "3      2619.837751\n",
       "4      9111.904384\n",
       "          ...     \n",
       "485     626.435503\n",
       "486    6591.711594\n",
       "487    9483.652236\n",
       "488    6492.358900\n",
       "489     688.287401\n",
       "Length: 490, dtype: float64"
      ]
     },
     "execution_count": 17,
     "metadata": {},
     "output_type": "execute_result"
    }
   ],
   "source": [
    "nba.sum(axis=1)"
   ]
  },
  {
   "cell_type": "code",
   "execution_count": 18,
   "metadata": {},
   "outputs": [
    {
     "data": {
      "text/plain": [
       "Games Played      61.000000\n",
       "MIN             1193.000000\n",
       "PTS              423.000000\n",
       "FGM              156.000000\n",
       "FGA              357.500000\n",
       "FG%               42.900000\n",
       "3PM               18.000000\n",
       "3PA               58.000000\n",
       "3P%               31.300000\n",
       "FTM               58.000000\n",
       "FTA               80.000000\n",
       "FT%               75.000000\n",
       "OREB              31.500000\n",
       "DREB             139.000000\n",
       "REB              176.000000\n",
       "AST               70.000000\n",
       "STL               32.000000\n",
       "BLK               14.000000\n",
       "TOV               56.500000\n",
       "PF               103.000000\n",
       "EFF              490.500000\n",
       "AST/TOV            1.345000\n",
       "STL/TOV            0.530000\n",
       "Age               27.000000\n",
       "Height           197.500000\n",
       "Weight            99.000000\n",
       "BMI               25.420833\n",
       "dtype: float64"
      ]
     },
     "execution_count": 18,
     "metadata": {},
     "output_type": "execute_result"
    }
   ],
   "source": [
    "nba.median()"
   ]
  },
  {
   "cell_type": "code",
   "execution_count": 19,
   "metadata": {},
   "outputs": [
    {
     "data": {
      "text/plain": [
       "Games Played      53.014286\n",
       "MIN             1214.714286\n",
       "PTS              502.108163\n",
       "FGM              188.338776\n",
       "FGA              419.526531\n",
       "FG%               43.099184\n",
       "3PM               39.387755\n",
       "3PA              112.524490\n",
       "3P%               25.519184\n",
       "FTM               86.042857\n",
       "FTA              114.689796\n",
       "FT%               70.450408\n",
       "OREB              54.655102\n",
       "DREB             162.697959\n",
       "REB              217.353061\n",
       "AST              110.616327\n",
       "STL               38.838776\n",
       "BLK               24.075510\n",
       "TOV               68.826531\n",
       "PF               101.483673\n",
       "EFF              564.330612\n",
       "AST/TOV            1.465837\n",
       "STL/TOV            0.626000\n",
       "Age               27.507109\n",
       "Height           197.440758\n",
       "Weight            99.469194\n",
       "BMI               25.427747\n",
       "dtype: float64"
      ]
     },
     "execution_count": 19,
     "metadata": {},
     "output_type": "execute_result"
    }
   ],
   "source": [
    "nba.mean()"
   ]
  },
  {
   "cell_type": "code",
   "execution_count": 20,
   "metadata": {},
   "outputs": [
    {
     "data": {
      "text/plain": [
       "Name            Zoran Dragic\n",
       "Games Played              83\n",
       "MIN                     2981\n",
       "PTS                     2217\n",
       "FGM                      659\n",
       "FGA                     1471\n",
       "FG%                      100\n",
       "3PM                      286\n",
       "3PA                      646\n",
       "3P%                      100\n",
       "FTM                      715\n",
       "FTA                      824\n",
       "FT%                      100\n",
       "OREB                     437\n",
       "DREB                     829\n",
       "REB                     1226\n",
       "AST                      838\n",
       "STL                      163\n",
       "BLK                      200\n",
       "TOV                      321\n",
       "PF                       285\n",
       "EFF                     2202\n",
       "AST/TOV                  6.5\n",
       "STL/TOV                    3\n",
       "Age                       39\n",
       "Height                 222.5\n",
       "Weight                   162\n",
       "BMI                  32.7231\n",
       "dtype: object"
      ]
     },
     "execution_count": 20,
     "metadata": {},
     "output_type": "execute_result"
    }
   ],
   "source": [
    "nba.max()"
   ]
  },
  {
   "cell_type": "code",
   "execution_count": 21,
   "metadata": {},
   "outputs": [
    {
     "data": {
      "text/plain": [
       "429"
      ]
     },
     "execution_count": 21,
     "metadata": {},
     "output_type": "execute_result"
    }
   ],
   "source": [
    "height.idxmax()"
   ]
  },
  {
   "cell_type": "code",
   "execution_count": 22,
   "metadata": {},
   "outputs": [
    {
     "data": {
      "text/plain": [
       "0           AJ Price\n",
       "1       Aaron Brooks\n",
       "2       Aaron Gordon\n",
       "3      Adreian Payne\n",
       "4         Al Horford\n",
       "           ...      \n",
       "485     Xavier Henry\n",
       "486      Zach LaVine\n",
       "487    Zach Randolph\n",
       "488    Zaza Pachulia\n",
       "489     Zoran Dragic\n",
       "Name: Name, Length: 490, dtype: object"
      ]
     },
     "execution_count": 22,
     "metadata": {},
     "output_type": "execute_result"
    }
   ],
   "source": [
    "name = nba['Name']\n",
    "name\n"
   ]
  },
  {
   "cell_type": "code",
   "execution_count": 23,
   "metadata": {},
   "outputs": [
    {
     "data": {
      "text/plain": [
       "Games Played     24.175437\n",
       "MIN             820.570132\n",
       "PTS             422.084232\n",
       "FGM             156.265752\n",
       "FGA             337.367125\n",
       "FG%               9.625231\n",
       "3PM              47.880909\n",
       "3PA             127.385750\n",
       "3P%              15.796603\n",
       "FTM              91.315316\n",
       "FTA             115.139240\n",
       "FT%              19.087819\n",
       "OREB             61.066036\n",
       "DREB            137.786528\n",
       "REB             191.983916\n",
       "AST             125.982080\n",
       "STL              33.389511\n",
       "BLK              31.662852\n",
       "TOV              58.480701\n",
       "PF               65.326807\n",
       "EFF             464.428031\n",
       "AST/TOV           0.825037\n",
       "STL/TOV           0.367443\n",
       "Age               4.220603\n",
       "Height            8.740250\n",
       "Weight           12.364228\n",
       "BMI               1.715794\n",
       "dtype: float64"
      ]
     },
     "execution_count": 23,
     "metadata": {},
     "output_type": "execute_result"
    }
   ],
   "source": [
    "nba.std()"
   ]
  },
  {
   "cell_type": "code",
   "execution_count": 24,
   "metadata": {},
   "outputs": [
    {
     "data": {
      "text/plain": [
       "Games Played       584.451738\n",
       "MIN             673335.341513\n",
       "PTS             178155.098706\n",
       "FGM              24418.985201\n",
       "FGA             113816.577004\n",
       "FG%                 92.645071\n",
       "3PM               2292.581445\n",
       "3PA              16227.129256\n",
       "3P%                249.532678\n",
       "FTM               8338.486912\n",
       "FTA              13257.044681\n",
       "FT%                364.344836\n",
       "OREB              3729.060761\n",
       "DREB             18985.127399\n",
       "REB              36857.823968\n",
       "AST              15871.484395\n",
       "STL               1114.859434\n",
       "BLK               1002.536209\n",
       "TOV               3419.992342\n",
       "PF                4267.591757\n",
       "EFF             215693.395584\n",
       "AST/TOV              0.680687\n",
       "STL/TOV              0.135014\n",
       "Age                 17.813489\n",
       "Height              76.391969\n",
       "Weight             152.874144\n",
       "BMI                  2.943949\n",
       "dtype: float64"
      ]
     },
     "execution_count": 24,
     "metadata": {},
     "output_type": "execute_result"
    }
   ],
   "source": [
    "nba.var()"
   ]
  },
  {
   "cell_type": "code",
   "execution_count": 25,
   "metadata": {},
   "outputs": [
    {
     "data": {
      "text/html": [
       "<div>\n",
       "<style scoped>\n",
       "    .dataframe tbody tr th:only-of-type {\n",
       "        vertical-align: middle;\n",
       "    }\n",
       "\n",
       "    .dataframe tbody tr th {\n",
       "        vertical-align: top;\n",
       "    }\n",
       "\n",
       "    .dataframe thead th {\n",
       "        text-align: right;\n",
       "    }\n",
       "</style>\n",
       "<table border=\"1\" class=\"dataframe\">\n",
       "  <thead>\n",
       "    <tr style=\"text-align: right;\">\n",
       "      <th></th>\n",
       "      <th>Games Played</th>\n",
       "      <th>MIN</th>\n",
       "      <th>PTS</th>\n",
       "      <th>FGM</th>\n",
       "      <th>FGA</th>\n",
       "      <th>FG%</th>\n",
       "      <th>3PM</th>\n",
       "      <th>3PA</th>\n",
       "      <th>3P%</th>\n",
       "      <th>FTM</th>\n",
       "      <th>...</th>\n",
       "      <th>BLK</th>\n",
       "      <th>TOV</th>\n",
       "      <th>PF</th>\n",
       "      <th>EFF</th>\n",
       "      <th>AST/TOV</th>\n",
       "      <th>STL/TOV</th>\n",
       "      <th>Age</th>\n",
       "      <th>Height</th>\n",
       "      <th>Weight</th>\n",
       "      <th>BMI</th>\n",
       "    </tr>\n",
       "  </thead>\n",
       "  <tbody>\n",
       "    <tr>\n",
       "      <th>count</th>\n",
       "      <td>490.000000</td>\n",
       "      <td>490.000000</td>\n",
       "      <td>490.000000</td>\n",
       "      <td>490.000000</td>\n",
       "      <td>490.000000</td>\n",
       "      <td>490.000000</td>\n",
       "      <td>490.000000</td>\n",
       "      <td>490.00000</td>\n",
       "      <td>490.000000</td>\n",
       "      <td>490.000000</td>\n",
       "      <td>...</td>\n",
       "      <td>490.000000</td>\n",
       "      <td>490.000000</td>\n",
       "      <td>490.000000</td>\n",
       "      <td>490.000000</td>\n",
       "      <td>490.000000</td>\n",
       "      <td>490.000000</td>\n",
       "      <td>422.000000</td>\n",
       "      <td>422.000000</td>\n",
       "      <td>422.000000</td>\n",
       "      <td>422.000000</td>\n",
       "    </tr>\n",
       "    <tr>\n",
       "      <th>mean</th>\n",
       "      <td>53.014286</td>\n",
       "      <td>1214.714286</td>\n",
       "      <td>502.108163</td>\n",
       "      <td>188.338776</td>\n",
       "      <td>419.526531</td>\n",
       "      <td>43.099184</td>\n",
       "      <td>39.387755</td>\n",
       "      <td>112.52449</td>\n",
       "      <td>25.519184</td>\n",
       "      <td>86.042857</td>\n",
       "      <td>...</td>\n",
       "      <td>24.075510</td>\n",
       "      <td>68.826531</td>\n",
       "      <td>101.483673</td>\n",
       "      <td>564.330612</td>\n",
       "      <td>1.465837</td>\n",
       "      <td>0.626000</td>\n",
       "      <td>27.507109</td>\n",
       "      <td>197.440758</td>\n",
       "      <td>99.469194</td>\n",
       "      <td>25.427747</td>\n",
       "    </tr>\n",
       "    <tr>\n",
       "      <th>std</th>\n",
       "      <td>24.175437</td>\n",
       "      <td>820.570132</td>\n",
       "      <td>422.084232</td>\n",
       "      <td>156.265752</td>\n",
       "      <td>337.367125</td>\n",
       "      <td>9.625231</td>\n",
       "      <td>47.880909</td>\n",
       "      <td>127.38575</td>\n",
       "      <td>15.796603</td>\n",
       "      <td>91.315316</td>\n",
       "      <td>...</td>\n",
       "      <td>31.662852</td>\n",
       "      <td>58.480701</td>\n",
       "      <td>65.326807</td>\n",
       "      <td>464.428031</td>\n",
       "      <td>0.825037</td>\n",
       "      <td>0.367443</td>\n",
       "      <td>4.220603</td>\n",
       "      <td>8.740250</td>\n",
       "      <td>12.364228</td>\n",
       "      <td>1.715794</td>\n",
       "    </tr>\n",
       "    <tr>\n",
       "      <th>min</th>\n",
       "      <td>1.000000</td>\n",
       "      <td>3.000000</td>\n",
       "      <td>0.000000</td>\n",
       "      <td>0.000000</td>\n",
       "      <td>0.000000</td>\n",
       "      <td>0.000000</td>\n",
       "      <td>0.000000</td>\n",
       "      <td>0.00000</td>\n",
       "      <td>0.000000</td>\n",
       "      <td>0.000000</td>\n",
       "      <td>...</td>\n",
       "      <td>0.000000</td>\n",
       "      <td>0.000000</td>\n",
       "      <td>0.000000</td>\n",
       "      <td>-3.000000</td>\n",
       "      <td>0.000000</td>\n",
       "      <td>0.000000</td>\n",
       "      <td>20.000000</td>\n",
       "      <td>172.500000</td>\n",
       "      <td>72.450000</td>\n",
       "      <td>20.411523</td>\n",
       "    </tr>\n",
       "    <tr>\n",
       "      <th>25%</th>\n",
       "      <td>33.000000</td>\n",
       "      <td>492.250000</td>\n",
       "      <td>145.250000</td>\n",
       "      <td>55.500000</td>\n",
       "      <td>139.000000</td>\n",
       "      <td>39.600000</td>\n",
       "      <td>1.000000</td>\n",
       "      <td>6.00000</td>\n",
       "      <td>15.500000</td>\n",
       "      <td>18.500000</td>\n",
       "      <td>...</td>\n",
       "      <td>5.000000</td>\n",
       "      <td>23.000000</td>\n",
       "      <td>45.500000</td>\n",
       "      <td>165.000000</td>\n",
       "      <td>0.920000</td>\n",
       "      <td>0.392500</td>\n",
       "      <td>24.000000</td>\n",
       "      <td>190.000000</td>\n",
       "      <td>90.000000</td>\n",
       "      <td>24.286136</td>\n",
       "    </tr>\n",
       "    <tr>\n",
       "      <th>50%</th>\n",
       "      <td>61.000000</td>\n",
       "      <td>1193.000000</td>\n",
       "      <td>423.000000</td>\n",
       "      <td>156.000000</td>\n",
       "      <td>357.500000</td>\n",
       "      <td>42.900000</td>\n",
       "      <td>18.000000</td>\n",
       "      <td>58.00000</td>\n",
       "      <td>31.300000</td>\n",
       "      <td>58.000000</td>\n",
       "      <td>...</td>\n",
       "      <td>14.000000</td>\n",
       "      <td>56.500000</td>\n",
       "      <td>103.000000</td>\n",
       "      <td>490.500000</td>\n",
       "      <td>1.345000</td>\n",
       "      <td>0.530000</td>\n",
       "      <td>27.000000</td>\n",
       "      <td>197.500000</td>\n",
       "      <td>99.000000</td>\n",
       "      <td>25.420833</td>\n",
       "    </tr>\n",
       "    <tr>\n",
       "      <th>75%</th>\n",
       "      <td>74.000000</td>\n",
       "      <td>1905.750000</td>\n",
       "      <td>774.000000</td>\n",
       "      <td>286.000000</td>\n",
       "      <td>642.750000</td>\n",
       "      <td>47.575000</td>\n",
       "      <td>66.000000</td>\n",
       "      <td>192.00000</td>\n",
       "      <td>36.400000</td>\n",
       "      <td>126.750000</td>\n",
       "      <td>...</td>\n",
       "      <td>29.750000</td>\n",
       "      <td>100.000000</td>\n",
       "      <td>148.750000</td>\n",
       "      <td>837.000000</td>\n",
       "      <td>1.920000</td>\n",
       "      <td>0.820000</td>\n",
       "      <td>30.000000</td>\n",
       "      <td>205.000000</td>\n",
       "      <td>108.000000</td>\n",
       "      <td>26.437500</td>\n",
       "    </tr>\n",
       "    <tr>\n",
       "      <th>max</th>\n",
       "      <td>83.000000</td>\n",
       "      <td>2981.000000</td>\n",
       "      <td>2217.000000</td>\n",
       "      <td>659.000000</td>\n",
       "      <td>1471.000000</td>\n",
       "      <td>100.000000</td>\n",
       "      <td>286.000000</td>\n",
       "      <td>646.00000</td>\n",
       "      <td>100.000000</td>\n",
       "      <td>715.000000</td>\n",
       "      <td>...</td>\n",
       "      <td>200.000000</td>\n",
       "      <td>321.000000</td>\n",
       "      <td>285.000000</td>\n",
       "      <td>2202.000000</td>\n",
       "      <td>6.500000</td>\n",
       "      <td>3.000000</td>\n",
       "      <td>39.000000</td>\n",
       "      <td>222.500000</td>\n",
       "      <td>162.000000</td>\n",
       "      <td>32.723141</td>\n",
       "    </tr>\n",
       "  </tbody>\n",
       "</table>\n",
       "<p>8 rows × 27 columns</p>\n",
       "</div>"
      ],
      "text/plain": [
       "       Games Played          MIN          PTS         FGM          FGA  \\\n",
       "count    490.000000   490.000000   490.000000  490.000000   490.000000   \n",
       "mean      53.014286  1214.714286   502.108163  188.338776   419.526531   \n",
       "std       24.175437   820.570132   422.084232  156.265752   337.367125   \n",
       "min        1.000000     3.000000     0.000000    0.000000     0.000000   \n",
       "25%       33.000000   492.250000   145.250000   55.500000   139.000000   \n",
       "50%       61.000000  1193.000000   423.000000  156.000000   357.500000   \n",
       "75%       74.000000  1905.750000   774.000000  286.000000   642.750000   \n",
       "max       83.000000  2981.000000  2217.000000  659.000000  1471.000000   \n",
       "\n",
       "              FG%         3PM        3PA         3P%         FTM  ...  \\\n",
       "count  490.000000  490.000000  490.00000  490.000000  490.000000  ...   \n",
       "mean    43.099184   39.387755  112.52449   25.519184   86.042857  ...   \n",
       "std      9.625231   47.880909  127.38575   15.796603   91.315316  ...   \n",
       "min      0.000000    0.000000    0.00000    0.000000    0.000000  ...   \n",
       "25%     39.600000    1.000000    6.00000   15.500000   18.500000  ...   \n",
       "50%     42.900000   18.000000   58.00000   31.300000   58.000000  ...   \n",
       "75%     47.575000   66.000000  192.00000   36.400000  126.750000  ...   \n",
       "max    100.000000  286.000000  646.00000  100.000000  715.000000  ...   \n",
       "\n",
       "              BLK         TOV          PF          EFF     AST/TOV  \\\n",
       "count  490.000000  490.000000  490.000000   490.000000  490.000000   \n",
       "mean    24.075510   68.826531  101.483673   564.330612    1.465837   \n",
       "std     31.662852   58.480701   65.326807   464.428031    0.825037   \n",
       "min      0.000000    0.000000    0.000000    -3.000000    0.000000   \n",
       "25%      5.000000   23.000000   45.500000   165.000000    0.920000   \n",
       "50%     14.000000   56.500000  103.000000   490.500000    1.345000   \n",
       "75%     29.750000  100.000000  148.750000   837.000000    1.920000   \n",
       "max    200.000000  321.000000  285.000000  2202.000000    6.500000   \n",
       "\n",
       "          STL/TOV         Age      Height      Weight         BMI  \n",
       "count  490.000000  422.000000  422.000000  422.000000  422.000000  \n",
       "mean     0.626000   27.507109  197.440758   99.469194   25.427747  \n",
       "std      0.367443    4.220603    8.740250   12.364228    1.715794  \n",
       "min      0.000000   20.000000  172.500000   72.450000   20.411523  \n",
       "25%      0.392500   24.000000  190.000000   90.000000   24.286136  \n",
       "50%      0.530000   27.000000  197.500000   99.000000   25.420833  \n",
       "75%      0.820000   30.000000  205.000000  108.000000   26.437500  \n",
       "max      3.000000   39.000000  222.500000  162.000000   32.723141  \n",
       "\n",
       "[8 rows x 27 columns]"
      ]
     },
     "execution_count": 25,
     "metadata": {},
     "output_type": "execute_result"
    }
   ],
   "source": [
    "nba.describe()"
   ]
  },
  {
   "cell_type": "code",
   "execution_count": 26,
   "metadata": {},
   "outputs": [
    {
     "name": "stdout",
     "output_type": "stream",
     "text": [
      "Firsts 490 422\n",
      "Others 490 422\n"
     ]
    }
   ],
   "source": [
    "##PMF\n",
    "##Experienced errors with the PMF part\n",
    "\n",
    "first_wgt = weight\n",
    "first_wgt_dropna = first_wgt.dropna()\n",
    "print('Firsts', len(first_wgt), len(first_wgt_dropna))\n",
    " \n",
    "height_w = height\n",
    "height_w_dropna = height_w.dropna()\n",
    "print('Others', len(height_w), len(height_w_dropna))\n",
    "\n",
    "first_pmf = thinkstats2.Pmf(first_wgt_dropna, label='first')\n",
    "other_pmf = thinkstats2.Pmf(height_w_dropna, label='other')"
   ]
  },
  {
   "cell_type": "code",
   "execution_count": 27,
   "metadata": {},
   "outputs": [
    {
     "data": {
      "image/png": "[encoded data removed]",
      "text/plain": [
       "<Figure size 432x288 with 1 Axes>"
      ]
     },
     "metadata": {
      "needs_background": "light"
     },
     "output_type": "display_data"
    }
   ],
   "source": [
    "# plot PMFs of birth weights for first babies and others\n",
    "\n",
    "plt.hist(first_pmf, align='right')\n",
    "plt.hist(other_pmf, align='left')\n",
    "plt.xlabel= 'Weight (pounds)'\n",
    "plt.ylabel='PMF'"
   ]
  },
  {
   "cell_type": "code",
   "execution_count": 28,
   "metadata": {},
   "outputs": [
    {
     "ename": "TypeError",
     "evalue": "'str' object is not callable",
     "output_type": "error",
     "traceback": [
      "\u001b[1;31m---------------------------------------------------------------------------\u001b[0m",
      "\u001b[1;31mTypeError\u001b[0m                                 Traceback (most recent call last)",
      "\u001b[1;32m<ipython-input-28-529a2b0fbc36>\u001b[0m in \u001b[0;36m<module>\u001b[1;34m\u001b[0m\n\u001b[0;32m      3\u001b[0m \u001b[0mplt\u001b[0m\u001b[1;33m.\u001b[0m\u001b[0mplot\u001b[0m\u001b[1;33m(\u001b[0m\u001b[0mx\u001b[0m\u001b[1;33m,\u001b[0m\u001b[0my\u001b[0m\u001b[1;33m)\u001b[0m\u001b[1;33m\u001b[0m\u001b[1;33m\u001b[0m\u001b[0m\n\u001b[0;32m      4\u001b[0m \u001b[0mplt\u001b[0m\u001b[1;33m.\u001b[0m\u001b[0mtitle\u001b[0m\u001b[1;33m(\u001b[0m\u001b[1;34m'CDF plot for Weight'\u001b[0m\u001b[1;33m)\u001b[0m\u001b[1;33m\u001b[0m\u001b[1;33m\u001b[0m\u001b[0m\n\u001b[1;32m----> 5\u001b[1;33m \u001b[0mplt\u001b[0m\u001b[1;33m.\u001b[0m\u001b[0mxlabel\u001b[0m\u001b[1;33m(\u001b[0m\u001b[1;34m'Weight(kg)'\u001b[0m\u001b[1;33m)\u001b[0m\u001b[1;33m\u001b[0m\u001b[1;33m\u001b[0m\u001b[0m\n\u001b[0m\u001b[0;32m      6\u001b[0m \u001b[0mplt\u001b[0m\u001b[1;33m.\u001b[0m\u001b[0mylabel\u001b[0m\u001b[1;33m(\u001b[0m\u001b[1;34m'CDF'\u001b[0m\u001b[1;33m)\u001b[0m\u001b[1;33m\u001b[0m\u001b[1;33m\u001b[0m\u001b[0m\n\u001b[0;32m      7\u001b[0m \u001b[0mplt\u001b[0m\u001b[1;33m.\u001b[0m\u001b[0mmargins\u001b[0m\u001b[1;33m(\u001b[0m\u001b[1;36m0.02\u001b[0m\u001b[1;33m)\u001b[0m\u001b[1;33m\u001b[0m\u001b[1;33m\u001b[0m\u001b[0m\n",
      "\u001b[1;31mTypeError\u001b[0m: 'str' object is not callable"
     ]
    },
    {
     "data": {
      "image/png": "[encoded data removed]",
      "text/plain": [
       "<Figure size 432x288 with 1 Axes>"
      ]
     },
     "metadata": {
      "needs_background": "light"
     },
     "output_type": "display_data"
    }
   ],
   "source": [
    "x = np.sort(nba['Weight'])\n",
    "y = np.arange(1, len(x)+1)/ len(x)\n",
    "plt.plot(x,y)\n",
    "plt.title('CDF plot for Weight')\n",
    "plt.xlabel('Weight(kg)')\n",
    "plt.ylabel('CDF')\n",
    "plt.margins(0.02)"
   ]
  },
  {
   "cell_type": "code",
   "execution_count": 29,
   "metadata": {},
   "outputs": [
    {
     "ename": "TypeError",
     "evalue": "'str' object is not callable",
     "output_type": "error",
     "traceback": [
      "\u001b[1;31m---------------------------------------------------------------------------\u001b[0m",
      "\u001b[1;31mTypeError\u001b[0m                                 Traceback (most recent call last)",
      "\u001b[1;32m<ipython-input-29-587aeafa33e8>\u001b[0m in \u001b[0;36m<module>\u001b[1;34m\u001b[0m\n\u001b[0;32m      5\u001b[0m \u001b[1;33m\u001b[0m\u001b[0m\n\u001b[0;32m      6\u001b[0m \u001b[0mplt\u001b[0m\u001b[1;33m.\u001b[0m\u001b[0mtitle\u001b[0m \u001b[1;33m(\u001b[0m\u001b[1;34m'Exponential CDF'\u001b[0m\u001b[1;33m)\u001b[0m\u001b[1;33m\u001b[0m\u001b[1;33m\u001b[0m\u001b[0m\n\u001b[1;32m----> 7\u001b[1;33m \u001b[0mplt\u001b[0m\u001b[1;33m.\u001b[0m\u001b[0mxlabel\u001b[0m\u001b[1;33m(\u001b[0m\u001b[1;34m'x values'\u001b[0m\u001b[1;33m)\u001b[0m\u001b[1;33m\u001b[0m\u001b[1;33m\u001b[0m\u001b[0m\n\u001b[0m\u001b[0;32m      8\u001b[0m \u001b[0mplt\u001b[0m\u001b[1;33m.\u001b[0m\u001b[0mylabel\u001b[0m\u001b[1;33m(\u001b[0m\u001b[1;34m'CDF'\u001b[0m\u001b[1;33m)\u001b[0m\u001b[1;33m\u001b[0m\u001b[1;33m\u001b[0m\u001b[0m\n",
      "\u001b[1;31mTypeError\u001b[0m: 'str' object is not callable"
     ]
    },
    {
     "data": {
      "image/png": "[encoded data removed]",
      "text/plain": [
       "<Figure size 432x288 with 1 Axes>"
      ]
     },
     "metadata": {
      "needs_background": "light"
     },
     "output_type": "display_data"
    }
   ],
   "source": [
    "for lam in [2.0, 1, 0.5]:\n",
    "    xs, ps = thinkstats2.RenderExpoCdf(lam, 0, 3.0, 50)\n",
    "    label = r'$\\lambda=%g$' % lam\n",
    "    plt.plot(xs, ps, label=label)\n",
    "    \n",
    "plt.title ('Exponential CDF')\n",
    "plt.xlabel('x values')\n",
    "plt.ylabel('CDF')"
   ]
  },
  {
   "cell_type": "code",
   "execution_count": 30,
   "metadata": {},
   "outputs": [
    {
     "data": {
      "text/plain": [
       "0       133\n",
       "1       954\n",
       "2       243\n",
       "3       213\n",
       "4      1156\n",
       "       ... \n",
       "485      20\n",
       "486     778\n",
       "487    1143\n",
       "488     606\n",
       "489      28\n",
       "Name: PTS, Length: 490, dtype: int64"
      ]
     },
     "execution_count": 30,
     "metadata": {},
     "output_type": "execute_result"
    }
   ],
   "source": [
    "points = nba['PTS']\n",
    "points"
   ]
  },
  {
   "cell_type": "code",
   "execution_count": 31,
   "metadata": {},
   "outputs": [
    {
     "data": {
      "text/plain": [
       "0       324\n",
       "1      1885\n",
       "2       797\n",
       "3       740\n",
       "4      2318\n",
       "       ... \n",
       "485      86\n",
       "486    1902\n",
       "487    2304\n",
       "488    1730\n",
       "489      75\n",
       "Name: MIN, Length: 490, dtype: int64"
      ]
     },
     "execution_count": 31,
     "metadata": {},
     "output_type": "execute_result"
    }
   ],
   "source": [
    "mins"
   ]
  },
  {
   "cell_type": "code",
   "execution_count": 32,
   "metadata": {},
   "outputs": [
    {
     "data": {
      "text/plain": [
       "0      179.19\n",
       "1      159.39\n",
       "2      217.80\n",
       "3      234.63\n",
       "4      242.55\n",
       "        ...  \n",
       "485    217.80\n",
       "486    187.11\n",
       "487    257.40\n",
       "488    267.30\n",
       "489    198.00\n",
       "Name: Weight, Length: 490, dtype: float64"
      ]
     },
     "execution_count": 32,
     "metadata": {},
     "output_type": "execute_result"
    }
   ],
   "source": [
    "weight"
   ]
  },
  {
   "cell_type": "code",
   "execution_count": 33,
   "metadata": {},
   "outputs": [
    {
     "ename": "TypeError",
     "evalue": "'str' object is not callable",
     "output_type": "error",
     "traceback": [
      "\u001b[1;31m---------------------------------------------------------------------------\u001b[0m",
      "\u001b[1;31mTypeError\u001b[0m                                 Traceback (most recent call last)",
      "\u001b[1;32m<ipython-input-33-fdec991730dc>\u001b[0m in \u001b[0;36m<module>\u001b[1;34m\u001b[0m\n\u001b[0;32m      1\u001b[0m \u001b[0mthinkplot\u001b[0m\u001b[1;33m.\u001b[0m\u001b[0mScatter\u001b[0m\u001b[1;33m(\u001b[0m\u001b[0mweight\u001b[0m\u001b[1;33m,\u001b[0m \u001b[0mpoints\u001b[0m\u001b[1;33m,\u001b[0m \u001b[0malpha\u001b[0m\u001b[1;33m=\u001b[0m\u001b[1;36m1\u001b[0m\u001b[1;33m)\u001b[0m\u001b[1;33m\u001b[0m\u001b[1;33m\u001b[0m\u001b[0m\n\u001b[0;32m      2\u001b[0m \u001b[0mplt\u001b[0m\u001b[1;33m.\u001b[0m\u001b[0mtitle\u001b[0m\u001b[1;33m(\u001b[0m\u001b[1;34m'Scatterplot'\u001b[0m\u001b[1;33m)\u001b[0m\u001b[1;33m\u001b[0m\u001b[1;33m\u001b[0m\u001b[0m\n\u001b[1;32m----> 3\u001b[1;33m \u001b[0mplt\u001b[0m\u001b[1;33m.\u001b[0m\u001b[0mxlabel\u001b[0m\u001b[1;33m(\u001b[0m\u001b[1;34m'Weight (lb)'\u001b[0m\u001b[1;33m)\u001b[0m\u001b[1;33m\u001b[0m\u001b[1;33m\u001b[0m\u001b[0m\n\u001b[0m\u001b[0;32m      4\u001b[0m \u001b[0mplt\u001b[0m\u001b[1;33m.\u001b[0m\u001b[0mylabel\u001b[0m\u001b[1;33m(\u001b[0m\u001b[1;34m'Points'\u001b[0m\u001b[1;33m)\u001b[0m\u001b[1;33m\u001b[0m\u001b[1;33m\u001b[0m\u001b[0m\n\u001b[0;32m      5\u001b[0m \u001b[0mplt\u001b[0m\u001b[1;33m.\u001b[0m\u001b[0mxaxis\u001b[0m\u001b[1;33m=\u001b[0m\u001b[1;33m[\u001b[0m\u001b[1;36m140\u001b[0m\u001b[1;33m,\u001b[0m \u001b[1;36m210\u001b[0m\u001b[1;33m,\u001b[0m \u001b[1;36m20\u001b[0m\u001b[1;33m,\u001b[0m \u001b[1;36m200\u001b[0m\u001b[1;33m]\u001b[0m\u001b[1;33m\u001b[0m\u001b[1;33m\u001b[0m\u001b[0m\n",
      "\u001b[1;31mTypeError\u001b[0m: 'str' object is not callable"
     ]
    },
    {
     "data": {
      "image/png": "[encoded data removed]",
      "text/plain": [
       "<Figure size 432x288 with 1 Axes>"
      ]
     },
     "metadata": {
      "needs_background": "light"
     },
     "output_type": "display_data"
    }
   ],
   "source": [
    "thinkplot.Scatter(weight, points, alpha=1)\n",
    "plt.title('Scatterplot')\n",
    "plt.xlabel('Weight (lb)')\n",
    "plt.ylabel('Points')\n",
    "plt.xaxis=[140, 210, 20, 200]\n",
    "plt.legend=False"
   ]
  },
  {
   "cell_type": "code",
   "execution_count": 35,
   "metadata": {},
   "outputs": [
    {
     "data": {
      "text/html": [
       "<div>\n",
       "<style scoped>\n",
       "    .dataframe tbody tr th:only-of-type {\n",
       "        vertical-align: middle;\n",
       "    }\n",
       "\n",
       "    .dataframe tbody tr th {\n",
       "        vertical-align: top;\n",
       "    }\n",
       "\n",
       "    .dataframe thead th {\n",
       "        text-align: right;\n",
       "    }\n",
       "</style>\n",
       "<table border=\"1\" class=\"dataframe\">\n",
       "  <thead>\n",
       "    <tr style=\"text-align: right;\">\n",
       "      <th></th>\n",
       "      <th>points</th>\n",
       "      <th>weight</th>\n",
       "    </tr>\n",
       "  </thead>\n",
       "  <tbody>\n",
       "    <tr>\n",
       "      <th>485</th>\n",
       "      <td>20</td>\n",
       "      <td>217.80</td>\n",
       "    </tr>\n",
       "    <tr>\n",
       "      <th>486</th>\n",
       "      <td>778</td>\n",
       "      <td>187.11</td>\n",
       "    </tr>\n",
       "    <tr>\n",
       "      <th>487</th>\n",
       "      <td>1143</td>\n",
       "      <td>257.40</td>\n",
       "    </tr>\n",
       "    <tr>\n",
       "      <th>488</th>\n",
       "      <td>606</td>\n",
       "      <td>267.30</td>\n",
       "    </tr>\n",
       "    <tr>\n",
       "      <th>489</th>\n",
       "      <td>28</td>\n",
       "      <td>198.00</td>\n",
       "    </tr>\n",
       "  </tbody>\n",
       "</table>\n",
       "</div>"
      ],
      "text/plain": [
       "     points  weight\n",
       "485      20  217.80\n",
       "486     778  187.11\n",
       "487    1143  257.40\n",
       "488     606  267.30\n",
       "489      28  198.00"
      ]
     },
     "execution_count": 35,
     "metadata": {},
     "output_type": "execute_result"
    }
   ],
   "source": [
    "df_cor = pd.DataFrame({'points': points,\n",
    "                      'weight':weight}).dropna()\n",
    "df_cor.tail()"
   ]
  },
  {
   "cell_type": "code",
   "execution_count": 36,
   "metadata": {},
   "outputs": [
    {
     "data": {
      "text/html": [
       "<div>\n",
       "<style scoped>\n",
       "    .dataframe tbody tr th:only-of-type {\n",
       "        vertical-align: middle;\n",
       "    }\n",
       "\n",
       "    .dataframe tbody tr th {\n",
       "        vertical-align: top;\n",
       "    }\n",
       "\n",
       "    .dataframe thead th {\n",
       "        text-align: right;\n",
       "    }\n",
       "</style>\n",
       "<table border=\"1\" class=\"dataframe\">\n",
       "  <thead>\n",
       "    <tr style=\"text-align: right;\">\n",
       "      <th></th>\n",
       "      <th>points</th>\n",
       "      <th>weight</th>\n",
       "    </tr>\n",
       "  </thead>\n",
       "  <tbody>\n",
       "    <tr>\n",
       "      <th>points</th>\n",
       "      <td>1.000000</td>\n",
       "      <td>0.030831</td>\n",
       "    </tr>\n",
       "    <tr>\n",
       "      <th>weight</th>\n",
       "      <td>0.030831</td>\n",
       "      <td>1.000000</td>\n",
       "    </tr>\n",
       "  </tbody>\n",
       "</table>\n",
       "</div>"
      ],
      "text/plain": [
       "          points    weight\n",
       "points  1.000000  0.030831\n",
       "weight  0.030831  1.000000"
      ]
     },
     "execution_count": 36,
     "metadata": {},
     "output_type": "execute_result"
    }
   ],
   "source": [
    "df_cor.corr()"
   ]
  },
  {
   "cell_type": "code",
   "execution_count": null,
   "metadata": {},
   "outputs": [],
   "source": [
    "#This indicates a very low positive correlation between weight of players and points scored"
   ]
  },
  {
   "cell_type": "code",
   "execution_count": 38,
   "metadata": {},
   "outputs": [
    {
     "ename": "TypeError",
     "evalue": "'str' object is not callable",
     "output_type": "error",
     "traceback": [
      "\u001b[1;31m---------------------------------------------------------------------------\u001b[0m",
      "\u001b[1;31mTypeError\u001b[0m                                 Traceback (most recent call last)",
      "\u001b[1;32m<ipython-input-38-56cc15d89d51>\u001b[0m in \u001b[0;36m<module>\u001b[1;34m\u001b[0m\n\u001b[0;32m      1\u001b[0m \u001b[0mthinkplot\u001b[0m\u001b[1;33m.\u001b[0m\u001b[0mScatter\u001b[0m\u001b[1;33m(\u001b[0m\u001b[0mheight\u001b[0m\u001b[1;33m,\u001b[0m \u001b[0mpoints\u001b[0m\u001b[1;33m,\u001b[0m \u001b[0malpha\u001b[0m\u001b[1;33m=\u001b[0m\u001b[1;36m1\u001b[0m\u001b[1;33m)\u001b[0m\u001b[1;33m\u001b[0m\u001b[1;33m\u001b[0m\u001b[0m\n\u001b[0;32m      2\u001b[0m \u001b[0mplt\u001b[0m\u001b[1;33m.\u001b[0m\u001b[0mtitle\u001b[0m\u001b[1;33m(\u001b[0m\u001b[1;34m'Scatterplot'\u001b[0m\u001b[1;33m)\u001b[0m\u001b[1;33m\u001b[0m\u001b[1;33m\u001b[0m\u001b[0m\n\u001b[1;32m----> 3\u001b[1;33m \u001b[0mplt\u001b[0m\u001b[1;33m.\u001b[0m\u001b[0mxlabel\u001b[0m\u001b[1;33m(\u001b[0m\u001b[1;34m'Height(ft)'\u001b[0m\u001b[1;33m)\u001b[0m\u001b[1;33m\u001b[0m\u001b[1;33m\u001b[0m\u001b[0m\n\u001b[0m\u001b[0;32m      4\u001b[0m \u001b[0mplt\u001b[0m\u001b[1;33m.\u001b[0m\u001b[0mylabel\u001b[0m\u001b[1;33m(\u001b[0m\u001b[1;34m'Points'\u001b[0m\u001b[1;33m)\u001b[0m\u001b[1;33m\u001b[0m\u001b[1;33m\u001b[0m\u001b[0m\n\u001b[0;32m      5\u001b[0m \u001b[0mplt\u001b[0m\u001b[1;33m.\u001b[0m\u001b[0mxaxis\u001b[0m\u001b[1;33m=\u001b[0m\u001b[1;33m[\u001b[0m\u001b[1;36m140\u001b[0m\u001b[1;33m,\u001b[0m \u001b[1;36m210\u001b[0m\u001b[1;33m,\u001b[0m \u001b[1;36m20\u001b[0m\u001b[1;33m,\u001b[0m \u001b[1;36m200\u001b[0m\u001b[1;33m]\u001b[0m\u001b[1;33m\u001b[0m\u001b[1;33m\u001b[0m\u001b[0m\n",
      "\u001b[1;31mTypeError\u001b[0m: 'str' object is not callable"
     ]
    },
    {
     "data": {
      "image/png": "[encoded data removed]",
      "text/plain": [
       "<Figure size 432x288 with 1 Axes>"
      ]
     },
     "metadata": {
      "needs_background": "light"
     },
     "output_type": "display_data"
    }
   ],
   "source": [
    "thinkplot.Scatter(height, points, alpha=1)\n",
    "plt.title('Scatterplot')\n",
    "plt.xlabel('Height(ft)')\n",
    "plt.ylabel('Points')\n",
    "plt.xaxis=[140, 210, 20, 200]\n",
    "plt.legend=False"
   ]
  },
  {
   "cell_type": "code",
   "execution_count": 39,
   "metadata": {},
   "outputs": [
    {
     "data": {
      "text/html": [
       "<div>\n",
       "<style scoped>\n",
       "    .dataframe tbody tr th:only-of-type {\n",
       "        vertical-align: middle;\n",
       "    }\n",
       "\n",
       "    .dataframe tbody tr th {\n",
       "        vertical-align: top;\n",
       "    }\n",
       "\n",
       "    .dataframe thead th {\n",
       "        text-align: right;\n",
       "    }\n",
       "</style>\n",
       "<table border=\"1\" class=\"dataframe\">\n",
       "  <thead>\n",
       "    <tr style=\"text-align: right;\">\n",
       "      <th></th>\n",
       "      <th>points</th>\n",
       "      <th>height</th>\n",
       "    </tr>\n",
       "  </thead>\n",
       "  <tbody>\n",
       "    <tr>\n",
       "      <th>485</th>\n",
       "      <td>20</td>\n",
       "      <td>6.418697</td>\n",
       "    </tr>\n",
       "    <tr>\n",
       "      <th>486</th>\n",
       "      <td>778</td>\n",
       "      <td>6.336406</td>\n",
       "    </tr>\n",
       "    <tr>\n",
       "      <th>487</th>\n",
       "      <td>1143</td>\n",
       "      <td>6.665569</td>\n",
       "    </tr>\n",
       "    <tr>\n",
       "      <th>488</th>\n",
       "      <td>606</td>\n",
       "      <td>6.830151</td>\n",
       "    </tr>\n",
       "    <tr>\n",
       "      <th>489</th>\n",
       "      <td>28</td>\n",
       "      <td>6.336406</td>\n",
       "    </tr>\n",
       "  </tbody>\n",
       "</table>\n",
       "</div>"
      ],
      "text/plain": [
       "     points    height\n",
       "485      20  6.418697\n",
       "486     778  6.336406\n",
       "487    1143  6.665569\n",
       "488     606  6.830151\n",
       "489      28  6.336406"
      ]
     },
     "execution_count": 39,
     "metadata": {},
     "output_type": "execute_result"
    }
   ],
   "source": [
    "df_cor2 = pd.DataFrame({'points': points,\n",
    "                      'height':height}).dropna()\n",
    "df_cor2.tail()"
   ]
  },
  {
   "cell_type": "code",
   "execution_count": 41,
   "metadata": {},
   "outputs": [
    {
     "data": {
      "text/html": [
       "<div>\n",
       "<style scoped>\n",
       "    .dataframe tbody tr th:only-of-type {\n",
       "        vertical-align: middle;\n",
       "    }\n",
       "\n",
       "    .dataframe tbody tr th {\n",
       "        vertical-align: top;\n",
       "    }\n",
       "\n",
       "    .dataframe thead th {\n",
       "        text-align: right;\n",
       "    }\n",
       "</style>\n",
       "<table border=\"1\" class=\"dataframe\">\n",
       "  <thead>\n",
       "    <tr style=\"text-align: right;\">\n",
       "      <th></th>\n",
       "      <th>points</th>\n",
       "      <th>height</th>\n",
       "    </tr>\n",
       "  </thead>\n",
       "  <tbody>\n",
       "    <tr>\n",
       "      <th>points</th>\n",
       "      <td>1.000000</td>\n",
       "      <td>-0.016891</td>\n",
       "    </tr>\n",
       "    <tr>\n",
       "      <th>height</th>\n",
       "      <td>-0.016891</td>\n",
       "      <td>1.000000</td>\n",
       "    </tr>\n",
       "  </tbody>\n",
       "</table>\n",
       "</div>"
      ],
      "text/plain": [
       "          points    height\n",
       "points  1.000000 -0.016891\n",
       "height -0.016891  1.000000"
      ]
     },
     "execution_count": 41,
     "metadata": {},
     "output_type": "execute_result"
    }
   ],
   "source": [
    "df_cor2.corr()"
   ]
  },
  {
   "cell_type": "code",
   "execution_count": null,
   "metadata": {},
   "outputs": [],
   "source": [
    "#This shows a very low negative correlation between player height and points scored "
   ]
  },
  {
   "cell_type": "code",
   "execution_count": 57,
   "metadata": {},
   "outputs": [
    {
     "data": {
      "text/plain": [
       "(0       133\n",
       " 1       954\n",
       " 2       243\n",
       " 3       213\n",
       " 4      1156\n",
       "        ... \n",
       " 485      20\n",
       " 486     778\n",
       " 487    1143\n",
       " 488     606\n",
       " 489      28\n",
       " Name: PTS, Length: 490, dtype: int64,\n",
       " 0      6.089533\n",
       " 1      5.924951\n",
       " 2      6.665569\n",
       " 3      6.747860\n",
       " 4      6.747860\n",
       "          ...   \n",
       " 485    6.418697\n",
       " 486    6.336406\n",
       " 487    6.665569\n",
       " 488    6.830151\n",
       " 489    6.336406\n",
       " Name: Height, Length: 490, dtype: float64)"
      ]
     },
     "execution_count": 57,
     "metadata": {},
     "output_type": "execute_result"
    }
   ],
   "source": [
    "data = points, height\n",
    "data"
   ]
  },
  {
   "cell_type": "code",
   "execution_count": 58,
   "metadata": {},
   "outputs": [],
   "source": [
    "class DiffMeansOneSided(DiffMeansPermute):\n",
    "\n",
    "    def TestStatistic(self, data):\n",
    "        points, height = data\n",
    "        test_stat = points.mean() - height.mean()\n",
    "        return test_stat"
   ]
  },
  {
   "cell_type": "code",
   "execution_count": 59,
   "metadata": {},
   "outputs": [
    {
     "data": {
      "text/plain": [
       "0.0"
      ]
     },
     "execution_count": 59,
     "metadata": {},
     "output_type": "execute_result"
    }
   ],
   "source": [
    "ht = DiffMeansOneSided(data)\n",
    "pvalue = ht.PValue()\n",
    "pvalue"
   ]
  },
  {
   "cell_type": "code",
   "execution_count": null,
   "metadata": {},
   "outputs": [],
   "source": [
    "# The hypothesis is not statistically significant"
   ]
  },
  {
   "cell_type": "code",
   "execution_count": 60,
   "metadata": {},
   "outputs": [],
   "source": [
    "from thinkstats2 import Mean, MeanVar, Var, Std, Cov\n",
    "\n",
    "def LeastSquares(xs, ys):\n",
    "    meanx, varx = MeanVar(xs)\n",
    "    meany = Mean(ys)\n",
    "\n",
    "    slope = Cov(xs, ys, meanx, meany) / varx\n",
    "    inter = meany - slope * meanx\n",
    "\n",
    "    return inter, slope"
   ]
  },
  {
   "cell_type": "code",
   "execution_count": 61,
   "metadata": {},
   "outputs": [
    {
     "data": {
      "text/plain": [
       "(nan, nan)"
      ]
     },
     "execution_count": 61,
     "metadata": {},
     "output_type": "execute_result"
    }
   ],
   "source": [
    "inter, slope = LeastSquares(height, points)\n",
    "inter, slope"
   ]
  },
  {
   "cell_type": "code",
   "execution_count": 62,
   "metadata": {},
   "outputs": [
    {
     "data": {
      "text/plain": [
       "nan"
      ]
     },
     "execution_count": 62,
     "metadata": {},
     "output_type": "execute_result"
    }
   ],
   "source": [
    "inter + slope * 25"
   ]
  },
  {
   "cell_type": "code",
   "execution_count": null,
   "metadata": {},
   "outputs": [],
   "source": [
    "##I believe there are issues with my dataset"
   ]
  },
  {
   "cell_type": "code",
   "execution_count": null,
   "metadata": {},
   "outputs": [],
   "source": [
    "#Some fun around my hypothesis"
   ]
  },
  {
   "cell_type": "code",
   "execution_count": 64,
   "metadata": {},
   "outputs": [
    {
     "data": {
      "text/plain": [
       "194"
      ]
     },
     "execution_count": 64,
     "metadata": {},
     "output_type": "execute_result"
    }
   ],
   "source": [
    "#First we find the ID of most points scored\n",
    "max_point = points.idxmax()\n",
    "max_point"
   ]
  },
  {
   "cell_type": "code",
   "execution_count": 69,
   "metadata": {},
   "outputs": [
    {
     "data": {
      "text/plain": [
       "429"
      ]
     },
     "execution_count": 69,
     "metadata": {},
     "output_type": "execute_result"
    }
   ],
   "source": [
    "#then we find the tallest player ID\n",
    "max_height = height.idxmax()\n",
    "max_height"
   ]
  },
  {
   "cell_type": "code",
   "execution_count": 66,
   "metadata": {},
   "outputs": [
    {
     "data": {
      "text/plain": [
       "False"
      ]
     },
     "execution_count": 66,
     "metadata": {},
     "output_type": "execute_result"
    }
   ],
   "source": [
    "#Than we see if the records belong to the same person\n",
    "max_point == max_height"
   ]
  },
  {
   "cell_type": "code",
   "execution_count": null,
   "metadata": {},
   "outputs": [],
   "source": [
    "#Although the tallest player didn't have the most points, this does not support or refute the initial\n",
    "#hypothesis. It was just a little harmless fun."
   ]
  }
 ],
 "metadata": {
  "kernelspec": {
   "display_name": "Python 3",
   "language": "python",
   "name": "python3"
  },
  "language_info": {
   "codemirror_mode": {
    "name": "ipython",
    "version": 3
   },
   "file_extension": ".py",
   "mimetype": "text/x-python",
   "name": "python",
   "nbconvert_exporter": "python",
   "pygments_lexer": "ipython3",
   "version": "3.7.6"
  }
 },
 "nbformat": 4,
 "nbformat_minor": 4
}
