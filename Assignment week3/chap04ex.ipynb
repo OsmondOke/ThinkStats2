{
 "cells": [
  {
   "cell_type": "markdown",
   "metadata": {},
   "source": [
    "# Examples and Exercises from Think Stats, 2nd Edition\n",
    "\n",
    "http://thinkstats2.com\n",
    "\n",
    "Copyright 2016 Allen B. Downey\n",
    "\n",
    "MIT License: https://opensource.org/licenses/MIT\n"
   ]
  },
  {
   "cell_type": "code",
   "execution_count": 31,
   "metadata": {},
   "outputs": [],
   "source": [
    "from __future__ import print_function, division\n",
    "\n",
    "%matplotlib inline\n",
    "\n",
    "import numpy as np\n",
    "\n",
    "import nsfg\n",
    "import first\n",
    "import thinkstats2\n",
    "import thinkplot"
   ]
  },
  {
   "cell_type": "markdown",
   "metadata": {},
   "source": [
    "## Examples\n",
    "\n",
    "One more time, I'll load the data from the NSFG."
   ]
  },
  {
   "cell_type": "code",
   "execution_count": 2,
   "metadata": {},
   "outputs": [],
   "source": [
    "live, firsts, others = first.MakeFrames()"
   ]
  },
  {
   "cell_type": "markdown",
   "metadata": {},
   "source": [
    "And compute the distribution of birth weight for first babies and others."
   ]
  },
  {
   "cell_type": "code",
   "execution_count": 3,
   "metadata": {},
   "outputs": [
    {
     "name": "stdout",
     "output_type": "stream",
     "text": [
      "Firsts 4413 4363\n",
      "Others 4735 4675\n"
     ]
    }
   ],
   "source": [
    "first_wgt = firsts.totalwgt_lb\n",
    "first_wgt_dropna = first_wgt.dropna()\n",
    "print('Firsts', len(first_wgt), len(first_wgt_dropna))\n",
    " \n",
    "other_wgt = others.totalwgt_lb\n",
    "other_wgt_dropna = other_wgt.dropna()\n",
    "print('Others', len(other_wgt), len(other_wgt_dropna))\n",
    "\n",
    "first_pmf = thinkstats2.Pmf(first_wgt_dropna, label='first')\n",
    "other_pmf = thinkstats2.Pmf(other_wgt_dropna, label='other')"
   ]
  },
  {
   "cell_type": "markdown",
   "metadata": {},
   "source": [
    "We can plot the PMFs on the same scale, but it is hard to see if there is a difference."
   ]
  },
  {
   "cell_type": "code",
   "execution_count": 4,
   "metadata": {},
   "outputs": [
    {
     "data": {
      "image/png": "[encoded data removed]",
      "text/plain": [
       "<Figure size 432x288 with 1 Axes>"
      ]
     },
     "metadata": {
      "needs_background": "light"
     },
     "output_type": "display_data"
    }
   ],
   "source": [
    "width = 0.4 / 16\n",
    "\n",
    "# plot PMFs of birth weights for first babies and others\n",
    "thinkplot.PrePlot(2)\n",
    "thinkplot.Hist(first_pmf, align='right', width=width)\n",
    "thinkplot.Hist(other_pmf, align='left', width=width)\n",
    "thinkplot.Config(xlabel='Weight (pounds)', ylabel='PMF')"
   ]
  },
  {
   "cell_type": "markdown",
   "metadata": {},
   "source": [
    "`PercentileRank` computes the fraction of `scores` less than or equal to `your_score`."
   ]
  },
  {
   "cell_type": "code",
   "execution_count": 5,
   "metadata": {},
   "outputs": [],
   "source": [
    "def PercentileRank(scores, your_score):\n",
    "    count = 0\n",
    "    for score in scores:\n",
    "        if score <= your_score:\n",
    "            count += 1\n",
    "\n",
    "    percentile_rank = 100.0 * count / len(scores)\n",
    "    return percentile_rank"
   ]
  },
  {
   "cell_type": "markdown",
   "metadata": {},
   "source": [
    "If this is the list of scores."
   ]
  },
  {
   "cell_type": "code",
   "execution_count": 6,
   "metadata": {},
   "outputs": [],
   "source": [
    "t = [55, 66, 77, 88, 99]"
   ]
  },
  {
   "cell_type": "markdown",
   "metadata": {},
   "source": [
    "And you got the 88, your percentile rank is 80."
   ]
  },
  {
   "cell_type": "code",
   "execution_count": 7,
   "metadata": {},
   "outputs": [
    {
     "data": {
      "text/plain": [
       "80.0"
      ]
     },
     "execution_count": 7,
     "metadata": {},
     "output_type": "execute_result"
    }
   ],
   "source": [
    "PercentileRank(t, 88)"
   ]
  },
  {
   "cell_type": "markdown",
   "metadata": {},
   "source": [
    "`Percentile` takes a percentile rank and computes the corresponding percentile. "
   ]
  },
  {
   "cell_type": "code",
   "execution_count": 8,
   "metadata": {},
   "outputs": [],
   "source": [
    "def Percentile(scores, percentile_rank):\n",
    "    scores.sort()\n",
    "    for score in scores:\n",
    "        if PercentileRank(scores, score) >= percentile_rank:\n",
    "            return score"
   ]
  },
  {
   "cell_type": "markdown",
   "metadata": {},
   "source": [
    "The median is the 50th percentile, which is 77."
   ]
  },
  {
   "cell_type": "code",
   "execution_count": 9,
   "metadata": {},
   "outputs": [
    {
     "data": {
      "text/plain": [
       "77"
      ]
     },
     "execution_count": 9,
     "metadata": {},
     "output_type": "execute_result"
    }
   ],
   "source": [
    "Percentile(t, 50)"
   ]
  },
  {
   "cell_type": "markdown",
   "metadata": {},
   "source": [
    "Here's a more efficient way to compute percentiles."
   ]
  },
  {
   "cell_type": "code",
   "execution_count": 10,
   "metadata": {},
   "outputs": [],
   "source": [
    "def Percentile2(scores, percentile_rank):\n",
    "    scores.sort()\n",
    "    index = percentile_rank * (len(scores)-1) // 100\n",
    "    return scores[index]"
   ]
  },
  {
   "cell_type": "markdown",
   "metadata": {},
   "source": [
    "Let's hope we get the same answer."
   ]
  },
  {
   "cell_type": "code",
   "execution_count": 11,
   "metadata": {},
   "outputs": [
    {
     "data": {
      "text/plain": [
       "77"
      ]
     },
     "execution_count": 11,
     "metadata": {},
     "output_type": "execute_result"
    }
   ],
   "source": [
    "Percentile2(t, 50)"
   ]
  },
  {
   "cell_type": "markdown",
   "metadata": {},
   "source": [
    "The Cumulative Distribution Function (CDF) is almost the same as `PercentileRank`.  The only difference is that the result is 0-1 instead of 0-100."
   ]
  },
  {
   "cell_type": "code",
   "execution_count": 12,
   "metadata": {},
   "outputs": [],
   "source": [
    "def EvalCdf(sample, x):\n",
    "    count = 0.0\n",
    "    for value in sample:\n",
    "        if value <= x:\n",
    "            count += 1\n",
    "\n",
    "    prob = count / len(sample)\n",
    "    return prob"
   ]
  },
  {
   "cell_type": "markdown",
   "metadata": {},
   "source": [
    "In this list"
   ]
  },
  {
   "cell_type": "code",
   "execution_count": 13,
   "metadata": {},
   "outputs": [],
   "source": [
    "t = [1, 2, 2, 3, 5]"
   ]
  },
  {
   "cell_type": "markdown",
   "metadata": {},
   "source": [
    "We can evaluate the CDF for various values:"
   ]
  },
  {
   "cell_type": "code",
   "execution_count": 14,
   "metadata": {},
   "outputs": [
    {
     "data": {
      "text/plain": [
       "(0.0, 0.2, 0.6, 0.8, 0.8, 1.0)"
      ]
     },
     "execution_count": 14,
     "metadata": {},
     "output_type": "execute_result"
    }
   ],
   "source": [
    "EvalCdf(t, 0), EvalCdf(t, 1), EvalCdf(t, 2), EvalCdf(t, 3), EvalCdf(t, 4), EvalCdf(t, 5)"
   ]
  },
  {
   "cell_type": "markdown",
   "metadata": {},
   "source": [
    "Here's an example using real data, the distribution of pregnancy length for live births."
   ]
  },
  {
   "cell_type": "code",
   "execution_count": 15,
   "metadata": {},
   "outputs": [
    {
     "data": {
      "image/png": "[encoded data removed]",
      "text/plain": [
       "<Figure size 432x288 with 1 Axes>"
      ]
     },
     "metadata": {
      "needs_background": "light"
     },
     "output_type": "display_data"
    }
   ],
   "source": [
    "cdf = thinkstats2.Cdf(live.prglngth, label='prglngth')\n",
    "thinkplot.Cdf(cdf)\n",
    "thinkplot.Config(xlabel='Pregnancy length (weeks)', ylabel='CDF', loc='upper left')"
   ]
  },
  {
   "cell_type": "markdown",
   "metadata": {},
   "source": [
    "`Cdf` provides `Prob`, which evaluates the CDF; that is, it computes the fraction of values less than or equal to the given value.  For example, 94% of pregnancy lengths are less than or equal to 41."
   ]
  },
  {
   "cell_type": "code",
   "execution_count": 16,
   "metadata": {},
   "outputs": [
    {
     "data": {
      "text/plain": [
       "0.9406427634455619"
      ]
     },
     "execution_count": 16,
     "metadata": {},
     "output_type": "execute_result"
    }
   ],
   "source": [
    "cdf.Prob(41)"
   ]
  },
  {
   "cell_type": "markdown",
   "metadata": {
    "collapsed": true
   },
   "source": [
    "`Value` evaluates the inverse CDF; given a fraction, it computes the corresponding value.  For example, the median is the value that corresponds to 0.5."
   ]
  },
  {
   "cell_type": "code",
   "execution_count": 17,
   "metadata": {},
   "outputs": [
    {
     "data": {
      "text/plain": [
       "39"
      ]
     },
     "execution_count": 17,
     "metadata": {},
     "output_type": "execute_result"
    }
   ],
   "source": [
    "cdf.Value(0.5)"
   ]
  },
  {
   "cell_type": "markdown",
   "metadata": {},
   "source": [
    "In general, CDFs are a good way to visualize distributions.  They are not as noisy as PMFs, and if you plot several CDFs on the same axes, any differences between them are apparent."
   ]
  },
  {
   "cell_type": "code",
   "execution_count": 18,
   "metadata": {},
   "outputs": [
    {
     "data": {
      "image/png": "[encoded data removed]",
      "text/plain": [
       "<Figure size 432x288 with 1 Axes>"
      ]
     },
     "metadata": {
      "needs_background": "light"
     },
     "output_type": "display_data"
    }
   ],
   "source": [
    "first_cdf = thinkstats2.Cdf(firsts.totalwgt_lb, label='first')\n",
    "other_cdf = thinkstats2.Cdf(others.totalwgt_lb, label='other')\n",
    "\n",
    "thinkplot.PrePlot(2)\n",
    "thinkplot.Cdfs([first_cdf, other_cdf])\n",
    "thinkplot.Config(xlabel='Weight (pounds)', ylabel='CDF')"
   ]
  },
  {
   "cell_type": "markdown",
   "metadata": {},
   "source": [
    "In this example, we can see that first babies are slightly, but consistently, lighter than others.\n",
    "\n",
    "We can use the CDF of birth weight to compute percentile-based statistics."
   ]
  },
  {
   "cell_type": "code",
   "execution_count": 19,
   "metadata": {},
   "outputs": [],
   "source": [
    "weights = live.totalwgt_lb\n",
    "live_cdf = thinkstats2.Cdf(weights, label='live')"
   ]
  },
  {
   "cell_type": "markdown",
   "metadata": {},
   "source": [
    "Again, the median is the 50th percentile."
   ]
  },
  {
   "cell_type": "code",
   "execution_count": 20,
   "metadata": {},
   "outputs": [
    {
     "data": {
      "text/plain": [
       "7.375"
      ]
     },
     "execution_count": 20,
     "metadata": {},
     "output_type": "execute_result"
    }
   ],
   "source": [
    "median = live_cdf.Percentile(50)\n",
    "median"
   ]
  },
  {
   "cell_type": "markdown",
   "metadata": {},
   "source": [
    "The interquartile range is the interval from the 25th to 75th percentile."
   ]
  },
  {
   "cell_type": "code",
   "execution_count": 21,
   "metadata": {},
   "outputs": [
    {
     "data": {
      "text/plain": [
       "(6.5, 8.125)"
      ]
     },
     "execution_count": 21,
     "metadata": {},
     "output_type": "execute_result"
    }
   ],
   "source": [
    "iqr = (live_cdf.Percentile(25), live_cdf.Percentile(75))\n",
    "iqr"
   ]
  },
  {
   "cell_type": "markdown",
   "metadata": {},
   "source": [
    "We can use the CDF to look up the percentile rank of a particular value.  For example, my second daughter was 10.2 pounds at birth, which is near the 99th percentile."
   ]
  },
  {
   "cell_type": "code",
   "execution_count": 22,
   "metadata": {},
   "outputs": [
    {
     "data": {
      "text/plain": [
       "98.82717415357381"
      ]
     },
     "execution_count": 22,
     "metadata": {},
     "output_type": "execute_result"
    }
   ],
   "source": [
    "live_cdf.PercentileRank(10.2)"
   ]
  },
  {
   "cell_type": "markdown",
   "metadata": {},
   "source": [
    "If we draw a random sample from the observed weights and map each weigh to its percentile rank."
   ]
  },
  {
   "cell_type": "code",
   "execution_count": 23,
   "metadata": {},
   "outputs": [],
   "source": [
    "sample = np.random.choice(weights, 100, replace=True)\n",
    "ranks = [live_cdf.PercentileRank(x) for x in sample]"
   ]
  },
  {
   "cell_type": "markdown",
   "metadata": {},
   "source": [
    "The resulting list of ranks should be approximately uniform from 0-1."
   ]
  },
  {
   "cell_type": "code",
   "execution_count": 24,
   "metadata": {},
   "outputs": [
    {
     "data": {
      "image/png": "[encoded data removed]",
      "text/plain": [
       "<Figure size 432x288 with 1 Axes>"
      ]
     },
     "metadata": {
      "needs_background": "light"
     },
     "output_type": "display_data"
    }
   ],
   "source": [
    "rank_cdf = thinkstats2.Cdf(ranks)\n",
    "thinkplot.Cdf(rank_cdf)\n",
    "thinkplot.Config(xlabel='Percentile rank', ylabel='CDF')"
   ]
  },
  {
   "cell_type": "markdown",
   "metadata": {},
   "source": [
    "That observation is the basis of `Cdf.Sample`, which generates a random sample from a Cdf.  Here's an example."
   ]
  },
  {
   "cell_type": "code",
   "execution_count": 25,
   "metadata": {},
   "outputs": [
    {
     "data": {
      "image/png": "[encoded data removed]",
      "text/plain": [
       "<Figure size 432x288 with 1 Axes>"
      ]
     },
     "metadata": {
      "needs_background": "light"
     },
     "output_type": "display_data"
    }
   ],
   "source": [
    "resample = live_cdf.Sample(1000)\n",
    "thinkplot.Cdf(live_cdf)\n",
    "thinkplot.Cdf(thinkstats2.Cdf(resample, label='resample'))\n",
    "thinkplot.Config(xlabel='Birth weight (pounds)', ylabel='CDF')"
   ]
  },
  {
   "cell_type": "markdown",
   "metadata": {},
   "source": [
    "This confirms that the random sample has the same distribution as the original data."
   ]
  },
  {
   "cell_type": "markdown",
   "metadata": {
    "collapsed": true
   },
   "source": [
    "## Exercises"
   ]
  },
  {
   "cell_type": "markdown",
   "metadata": {
    "collapsed": true
   },
   "source": [
    "**Exercise:** How much did you weigh at birth? If you don’t know, call your mother or someone else who knows. Using the NSFG data (all live births), compute the distribution of birth weights and use it to find your percentile rank. If you were a first baby, find your percentile rank in the distribution for first babies. Otherwise use the distribution for others. If you are in the 90th percentile or higher, call your mother back and apologize."
   ]
  },
  {
   "cell_type": "code",
   "execution_count": 26,
   "metadata": {},
   "outputs": [],
   "source": [
    "# Solution goes here"
   ]
  },
  {
   "cell_type": "code",
   "execution_count": 32,
   "metadata": {},
   "outputs": [
    {
     "data": {
      "text/plain": [
       "29.32620320855615"
      ]
     },
     "execution_count": 32,
     "metadata": {},
     "output_type": "execute_result"
    }
   ],
   "source": [
    "other_cdf.PercentileRank(6.7)\n",
    "#I told my mother about this exercise and she started laughing "
   ]
  },
  {
   "cell_type": "markdown",
   "metadata": {
    "collapsed": true
   },
   "source": [
    "**Exercise:** The numbers generated by `numpy.random.random` are supposed to be uniform between 0 and 1; that is, every value in the range should have the same probability.\n",
    "\n",
    "Generate 1000 numbers from `numpy.random.random` and plot their PMF.  What goes wrong?\n",
    "\n",
    "Now plot the CDF. Is the distribution uniform?"
   ]
  },
  {
   "cell_type": "code",
   "execution_count": 33,
   "metadata": {},
   "outputs": [
    {
     "data": {
      "text/plain": [
       "array([1.54555044e-02, 7.90033357e-02, 4.27792608e-01, 3.79663056e-01,\n",
       "       9.25752120e-01, 4.84002610e-01, 8.47667989e-02, 5.08642947e-02,\n",
       "       6.96172044e-01, 1.48396685e-02, 5.81631991e-01, 7.22944807e-01,\n",
       "       8.79551680e-01, 1.57762518e-01, 2.56153370e-01, 3.12691865e-01,\n",
       "       8.10338313e-01, 2.12578113e-01, 9.41947517e-01, 6.32655545e-02,\n",
       "       3.75877814e-01, 3.24780773e-01, 9.53024343e-01, 4.94593897e-01,\n",
       "       6.64316524e-01, 5.99916620e-01, 8.31404778e-01, 2.27157071e-01,\n",
       "       5.01456903e-01, 3.82211146e-01, 6.22125189e-01, 5.47917475e-01,\n",
       "       2.93660178e-01, 6.32646176e-01, 6.78965579e-01, 4.40467386e-01,\n",
       "       5.11542135e-01, 9.32427696e-01, 7.08103879e-01, 8.37449225e-01,\n",
       "       1.95085439e-01, 9.49030420e-01, 9.02740910e-01, 7.15630206e-01,\n",
       "       9.72641057e-01, 5.27603224e-01, 9.36406617e-01, 9.79806770e-01,\n",
       "       2.46550783e-01, 9.73088389e-01, 1.21979811e-01, 9.15961387e-01,\n",
       "       6.78979159e-01, 5.55737027e-01, 3.01801057e-01, 8.90461671e-01,\n",
       "       9.41383980e-02, 1.17606437e-01, 6.75442840e-01, 7.68483920e-01,\n",
       "       3.61783030e-01, 5.42243431e-01, 2.16940161e-01, 3.70939074e-02,\n",
       "       2.97662353e-01, 4.41545194e-02, 1.14705559e-01, 3.40997931e-01,\n",
       "       2.12311249e-01, 3.83724679e-02, 7.57322871e-01, 3.57440387e-01,\n",
       "       6.65596811e-01, 1.67153219e-01, 3.31076727e-01, 8.61909367e-02,\n",
       "       8.70796031e-01, 5.23523043e-01, 8.78727914e-01, 9.74946856e-01,\n",
       "       6.67961477e-01, 8.05117321e-01, 6.59298943e-01, 2.90901659e-03,\n",
       "       9.96553129e-01, 4.58140128e-01, 3.62697896e-01, 7.91677541e-02,\n",
       "       2.82402383e-01, 5.48470660e-01, 3.93517367e-02, 1.20181104e-01,\n",
       "       3.18200720e-01, 5.85655143e-01, 3.60429850e-01, 3.47183535e-01,\n",
       "       7.73436830e-01, 9.54906410e-01, 7.35841403e-01, 6.86970466e-01,\n",
       "       6.50571384e-01, 5.74258420e-01, 5.45924241e-01, 4.75093233e-02,\n",
       "       1.11868854e-01, 1.16901237e-01, 8.50523170e-01, 7.38809007e-01,\n",
       "       5.74743816e-01, 1.30559423e-01, 2.25229053e-01, 2.85907818e-01,\n",
       "       9.52434585e-01, 6.64864017e-02, 9.52530645e-01, 3.06563200e-01,\n",
       "       2.39989780e-01, 8.13821597e-02, 1.65806142e-02, 8.50921835e-02,\n",
       "       6.46925600e-01, 1.30713865e-01, 7.82337557e-01, 3.72899528e-01,\n",
       "       2.92167477e-01, 9.95269016e-01, 8.19307480e-01, 7.33646989e-01,\n",
       "       1.97389266e-01, 6.39353739e-01, 6.90568921e-01, 6.30478700e-01,\n",
       "       4.82614068e-01, 4.57554606e-01, 8.45671637e-01, 5.84780076e-01,\n",
       "       4.56634880e-01, 8.18510585e-01, 4.98592679e-01, 7.60875115e-01,\n",
       "       8.22796575e-01, 6.39524366e-02, 6.85797067e-01, 4.18552718e-01,\n",
       "       4.29028078e-01, 3.77772585e-01, 2.60316437e-01, 5.26077516e-01,\n",
       "       4.76858097e-01, 7.32719740e-01, 2.51511125e-01, 4.44790660e-02,\n",
       "       1.90177093e-01, 3.13047569e-02, 4.94812575e-01, 7.39766002e-02,\n",
       "       2.55973099e-01, 6.91392462e-01, 7.12691244e-01, 9.57665272e-01,\n",
       "       6.10002297e-01, 8.99815352e-01, 3.06948961e-01, 4.77389143e-01,\n",
       "       2.83143300e-01, 6.52681230e-01, 7.17442472e-01, 4.49640527e-02,\n",
       "       5.51882223e-01, 5.03050172e-02, 8.36992110e-01, 6.15662488e-01,\n",
       "       8.86297847e-01, 5.15960131e-01, 4.29185261e-01, 8.72200416e-01,\n",
       "       4.64667673e-01, 3.88320684e-01, 2.29131678e-01, 3.45044112e-02,\n",
       "       5.47697002e-01, 1.71930886e-01, 8.01778432e-01, 6.63317532e-01,\n",
       "       7.12781197e-01, 4.60604537e-01, 7.37938333e-01, 2.16409996e-01,\n",
       "       5.31804968e-01, 8.29549778e-01, 2.17014060e-01, 1.10993272e-01,\n",
       "       5.45319347e-01, 2.67600958e-01, 8.72913508e-01, 4.63169334e-01,\n",
       "       9.61617693e-01, 1.19781881e-01, 8.52629343e-01, 7.44735260e-01,\n",
       "       3.28650390e-01, 6.96004820e-01, 5.07691737e-01, 2.53455743e-01,\n",
       "       5.92858284e-01, 8.04756958e-01, 8.69272699e-01, 3.89326140e-01,\n",
       "       1.76639710e-01, 1.67382615e-01, 7.76242849e-01, 4.75679374e-01,\n",
       "       8.56693541e-01, 8.45702685e-02, 9.26176666e-01, 3.96971092e-03,\n",
       "       8.96988930e-01, 1.03476293e-01, 9.85484153e-01, 2.40083794e-01,\n",
       "       9.34036532e-01, 6.90349609e-01, 9.42390077e-01, 9.02614389e-01,\n",
       "       7.29999314e-01, 1.27395897e-01, 7.79944363e-01, 3.39097414e-01,\n",
       "       1.11180016e-01, 3.27855509e-01, 2.96084473e-01, 1.79043898e-01,\n",
       "       8.93156397e-01, 8.56126717e-01, 5.76555588e-01, 4.54639786e-02,\n",
       "       9.95028667e-01, 4.54286253e-01, 3.01313819e-02, 8.82926913e-02,\n",
       "       2.52299562e-01, 6.39618388e-01, 3.64680221e-01, 3.13400718e-01,\n",
       "       3.87787037e-01, 7.89797407e-02, 3.91380978e-01, 9.95112363e-02,\n",
       "       6.43537473e-01, 7.49701532e-01, 5.99541519e-01, 2.11655938e-01,\n",
       "       6.92050525e-01, 6.52228849e-01, 1.88903576e-01, 5.88718506e-01,\n",
       "       3.80404961e-01, 7.81321819e-01, 2.96801578e-01, 8.79230158e-02,\n",
       "       7.44850243e-01, 6.87184830e-02, 1.14351616e-01, 1.23735636e-02,\n",
       "       6.04148218e-01, 6.76718550e-01, 4.89374222e-01, 5.13185897e-01,\n",
       "       5.08889475e-01, 6.02089410e-01, 6.64581171e-01, 5.50805572e-01,\n",
       "       6.71319492e-01, 2.65554176e-01, 7.43144434e-01, 5.45710016e-01,\n",
       "       2.51474803e-01, 3.44689240e-01, 9.07679170e-01, 3.90936006e-01,\n",
       "       6.35003278e-01, 9.63074024e-01, 4.98674131e-01, 5.98306885e-02,\n",
       "       3.05540235e-01, 8.47888074e-01, 3.05528733e-01, 2.42936960e-01,\n",
       "       6.49934904e-01, 5.72894693e-01, 7.38917546e-01, 8.79434949e-01,\n",
       "       8.14116856e-01, 1.12111992e-01, 3.24553009e-01, 8.38972962e-01,\n",
       "       1.13864178e-01, 6.70733524e-01, 9.34238010e-01, 4.92540838e-01,\n",
       "       4.16423368e-01, 8.98826838e-01, 3.19902473e-01, 9.32837043e-01,\n",
       "       3.99178427e-01, 4.48972096e-01, 1.61297050e-01, 8.04435602e-01,\n",
       "       7.90588690e-01, 9.06880022e-01, 2.66606850e-01, 8.87368212e-01,\n",
       "       5.25142175e-01, 9.12949370e-01, 4.92114704e-01, 6.23594758e-01,\n",
       "       6.56406550e-01, 2.76600173e-01, 1.95009718e-01, 4.01150116e-01,\n",
       "       6.06578949e-01, 3.80534371e-01, 5.04396418e-01, 8.51006038e-01,\n",
       "       7.02598108e-01, 4.25852856e-01, 3.84861791e-01, 9.21143138e-03,\n",
       "       4.85720173e-01, 5.13668464e-01, 7.96059846e-01, 7.41152213e-02,\n",
       "       2.62285536e-01, 9.07738659e-01, 3.68688666e-01, 3.28223051e-01,\n",
       "       3.47168935e-01, 6.22405406e-01, 8.35336658e-01, 7.28656222e-01,\n",
       "       1.15078191e-01, 3.65359965e-01, 7.98664911e-01, 3.37089653e-01,\n",
       "       1.49311262e-01, 1.80977891e-01, 7.75138931e-02, 4.42461628e-01,\n",
       "       7.49115854e-01, 4.96276481e-01, 6.89009152e-01, 8.61932497e-01,\n",
       "       3.65001478e-02, 1.91098164e-01, 9.17663819e-01, 3.65387120e-01,\n",
       "       1.13887919e-01, 7.75992285e-01, 8.51735613e-01, 2.24381031e-01,\n",
       "       5.54729090e-02, 2.77363089e-01, 1.61203888e-01, 9.51119682e-02,\n",
       "       7.42550336e-01, 3.49673553e-01, 1.51166072e-01, 9.72585178e-01,\n",
       "       8.68045350e-01, 6.99031164e-01, 6.99525695e-01, 3.58113325e-03,\n",
       "       8.44618102e-01, 1.63869482e-01, 4.88708294e-01, 5.33614013e-01,\n",
       "       3.84143790e-01, 9.59241629e-01, 5.43138101e-01, 8.33753528e-01,\n",
       "       6.32377187e-01, 9.20435421e-01, 6.94915034e-01, 6.16538354e-01,\n",
       "       6.22115524e-01, 1.68509918e-01, 5.20133609e-01, 2.57817110e-01,\n",
       "       8.69778342e-01, 5.64802674e-01, 6.05027062e-01, 1.23668838e-02,\n",
       "       5.84772413e-01, 5.50226056e-01, 9.54428826e-01, 4.07087865e-01,\n",
       "       1.57148396e-01, 7.99114086e-01, 1.59412761e-01, 2.04942100e-01,\n",
       "       7.06685767e-01, 6.63935445e-01, 4.33361953e-01, 5.10878337e-01,\n",
       "       7.28456541e-01, 9.37739433e-01, 4.00188564e-02, 2.31855422e-01,\n",
       "       4.26791344e-01, 1.04126893e-01, 1.36089520e-01, 5.27850308e-01,\n",
       "       2.52296550e-01, 1.62699954e-01, 9.27218811e-02, 7.44092413e-01,\n",
       "       4.25364768e-01, 2.85147841e-01, 6.34617848e-01, 5.59307292e-03,\n",
       "       9.58826500e-01, 3.99636419e-01, 4.11342664e-01, 9.24435913e-02,\n",
       "       4.14442162e-01, 7.24405089e-01, 7.50962844e-01, 2.02686668e-01,\n",
       "       8.74430537e-01, 5.24843819e-01, 1.92083424e-01, 2.81958565e-02,\n",
       "       9.27978792e-01, 5.76106055e-01, 5.36407576e-01, 6.86423839e-01,\n",
       "       3.66625233e-01, 1.81517549e-01, 1.23987348e-01, 9.40034627e-01,\n",
       "       9.15822344e-01, 6.31761437e-01, 8.89227548e-01, 2.53455457e-01,\n",
       "       4.71803532e-01, 2.17398816e-01, 3.88595764e-01, 1.11312215e-01,\n",
       "       3.91722396e-02, 6.85002276e-01, 5.64375637e-01, 5.22362117e-01,\n",
       "       6.76802921e-01, 9.57633515e-01, 9.91555095e-01, 5.70598064e-01,\n",
       "       5.82225493e-01, 2.73615032e-02, 6.48199667e-01, 7.62103766e-01,\n",
       "       8.00039440e-01, 1.13047704e-01, 7.77601821e-01, 7.17976104e-03,\n",
       "       4.33196049e-01, 9.14975545e-01, 7.78737065e-01, 2.20239832e-01,\n",
       "       2.53359082e-01, 9.77692355e-02, 2.81460719e-01, 7.08285343e-01,\n",
       "       1.89786307e-01, 6.87198239e-01, 7.41114151e-01, 2.08650494e-01,\n",
       "       5.49980236e-01, 1.01790004e-01, 2.41399408e-01, 1.00408374e-01,\n",
       "       2.73405921e-01, 3.21466777e-01, 3.02059062e-01, 2.57228044e-01,\n",
       "       9.84271779e-01, 2.40544264e-01, 7.60890879e-02, 9.70244968e-01,\n",
       "       9.47802917e-01, 1.42810581e-01, 5.18336943e-01, 8.55504246e-01,\n",
       "       1.34528990e-01, 5.87720356e-01, 9.40607028e-01, 8.82940044e-01,\n",
       "       4.26845194e-01, 6.06976462e-01, 4.89986095e-01, 5.00700483e-01,\n",
       "       2.91437933e-02, 9.80143210e-01, 6.59228537e-01, 4.82998432e-01,\n",
       "       2.50550805e-01, 8.36471060e-02, 1.24983539e-02, 2.02945547e-01,\n",
       "       1.21695005e-01, 2.53603438e-01, 9.95166097e-02, 7.32618664e-01,\n",
       "       2.27044266e-01, 1.04432889e-01, 6.53706675e-01, 3.89227004e-01,\n",
       "       5.19844774e-01, 1.90887989e-01, 3.01896242e-01, 5.56361417e-01,\n",
       "       9.21863274e-01, 4.60241891e-01, 6.59329819e-01, 1.40707494e-01,\n",
       "       8.89738160e-01, 2.67463814e-02, 5.89614318e-01, 9.23040736e-01,\n",
       "       1.03882891e-01, 9.10995619e-01, 3.53393505e-01, 4.69096652e-01,\n",
       "       2.14993384e-01, 3.24566122e-01, 2.29986222e-01, 5.97373640e-01,\n",
       "       6.82252891e-01, 1.51051061e-01, 3.15776938e-01, 4.33081612e-01,\n",
       "       1.98341379e-02, 2.12113870e-01, 7.66425935e-02, 7.78842972e-01,\n",
       "       5.84929257e-01, 8.63381900e-02, 7.50759402e-01, 1.88972269e-02,\n",
       "       8.27162120e-02, 4.43225248e-01, 2.64048742e-01, 4.71580515e-01,\n",
       "       7.94772672e-01, 6.86144301e-01, 9.23042828e-01, 5.63289911e-01,\n",
       "       8.33915981e-02, 7.24730470e-01, 1.16415380e-01, 5.57826254e-01,\n",
       "       7.13755827e-01, 2.42914363e-01, 7.42152020e-01, 1.52877745e-01,\n",
       "       8.49905580e-01, 6.05891215e-02, 2.24561353e-01, 6.32475796e-01,\n",
       "       9.36614846e-01, 6.06679138e-01, 3.37572621e-01, 1.03482942e-01,\n",
       "       6.17114871e-02, 5.63532250e-01, 6.99367487e-01, 5.56228198e-01,\n",
       "       6.13199275e-01, 2.08482271e-01, 7.55960832e-02, 1.91971068e-01,\n",
       "       4.15207855e-01, 7.02830622e-01, 2.22187802e-01, 7.10776425e-01,\n",
       "       2.44621106e-01, 1.74166396e-02, 6.47894638e-01, 8.01805803e-01,\n",
       "       8.68869285e-01, 7.23129904e-01, 7.40955399e-01, 2.05386428e-01,\n",
       "       1.67367272e-01, 3.06159792e-01, 5.57794826e-01, 3.17028856e-01,\n",
       "       4.09022153e-01, 6.04230663e-01, 6.28836821e-01, 3.40916426e-02,\n",
       "       6.64949317e-01, 1.75705373e-01, 2.99121671e-01, 1.35743422e-01,\n",
       "       8.68818512e-01, 1.90693837e-01, 3.21729523e-01, 2.25529483e-01,\n",
       "       2.39717482e-01, 2.54579872e-01, 6.17761048e-01, 8.62194674e-01,\n",
       "       5.10306123e-01, 9.39822973e-01, 4.89790410e-01, 7.88545614e-01,\n",
       "       9.79914000e-02, 2.13396723e-01, 3.62363858e-02, 7.25546653e-01,\n",
       "       7.98391727e-01, 8.30445962e-03, 3.10968812e-01, 3.06961060e-01,\n",
       "       3.31282177e-01, 8.06889950e-01, 1.65888909e-01, 7.95091352e-01,\n",
       "       6.61293049e-01, 9.83249135e-01, 2.30465471e-01, 3.29534400e-01,\n",
       "       8.32524856e-01, 8.16084930e-01, 7.74118679e-02, 5.14728631e-01,\n",
       "       3.98767668e-03, 8.59079808e-01, 5.58587211e-01, 4.10649431e-01,\n",
       "       7.33769099e-02, 2.20627513e-01, 7.55123200e-01, 3.26279133e-01,\n",
       "       9.59521719e-01, 1.15652775e-01, 9.24814087e-01, 6.51071539e-01,\n",
       "       2.30381350e-01, 9.81023254e-01, 4.56325993e-01, 7.11644437e-01,\n",
       "       1.14862183e-01, 6.80743655e-01, 5.41841548e-01, 5.22986112e-01,\n",
       "       8.42295013e-01, 6.47230261e-01, 1.38353232e-01, 5.50129022e-01,\n",
       "       1.25543835e-01, 4.81585660e-01, 2.74929676e-01, 2.63280310e-02,\n",
       "       3.15354686e-01, 8.03798879e-01, 1.42495232e-01, 7.27258165e-01,\n",
       "       1.80838942e-01, 9.51964699e-01, 4.82143679e-01, 7.54612718e-01,\n",
       "       7.08477376e-01, 5.93852328e-01, 8.67425621e-01, 6.45701922e-01,\n",
       "       4.25084875e-01, 8.24112532e-01, 2.86115907e-01, 4.65310297e-01,\n",
       "       2.49440772e-01, 9.34146402e-01, 3.26569644e-01, 9.30591675e-01,\n",
       "       6.00846247e-01, 1.54462603e-01, 9.93672407e-01, 1.05085558e-01,\n",
       "       9.52152094e-01, 1.33594800e-01, 5.77103979e-01, 8.36499528e-01,\n",
       "       4.52344629e-01, 2.16633914e-01, 4.78122392e-01, 2.03815733e-01,\n",
       "       9.17354144e-01, 3.24543296e-01, 7.19856352e-01, 6.98581519e-01,\n",
       "       3.27143802e-01, 7.53413868e-01, 3.93990999e-01, 8.87419181e-01,\n",
       "       6.00132209e-01, 8.64823300e-02, 5.64117463e-01, 4.58281015e-02,\n",
       "       4.80617668e-01, 7.83076022e-01, 3.30015357e-01, 9.09871091e-02,\n",
       "       2.72196479e-01, 8.86513767e-01, 8.58958987e-01, 5.29804654e-01,\n",
       "       2.71182315e-01, 8.53677928e-01, 1.22103448e-01, 2.07751600e-02,\n",
       "       4.20694221e-01, 4.76278553e-01, 7.97956415e-01, 5.62338395e-01,\n",
       "       2.53812382e-01, 8.78033625e-02, 7.35714731e-01, 1.51663388e-01,\n",
       "       7.50304261e-01, 3.09664259e-01, 5.67032283e-01, 8.84910076e-01,\n",
       "       3.24969191e-01, 5.72969072e-01, 9.22020967e-01, 2.99630601e-01,\n",
       "       6.99871347e-01, 9.28364692e-01, 1.41531969e-01, 7.36466288e-01,\n",
       "       1.70285811e-01, 9.25040273e-01, 6.39823231e-01, 5.31615004e-01,\n",
       "       4.99043719e-03, 2.98969370e-01, 7.16239277e-01, 2.48798405e-01,\n",
       "       4.17759275e-01, 8.85723220e-01, 3.88469199e-01, 2.81368356e-01,\n",
       "       8.52506101e-01, 5.42826719e-04, 1.13698183e-01, 5.24516019e-02,\n",
       "       7.69017959e-01, 6.71248424e-01, 8.87981719e-03, 1.14346766e-01,\n",
       "       1.88773773e-01, 6.58080134e-01, 7.02981915e-01, 4.40231159e-01,\n",
       "       4.56261626e-01, 3.02693676e-01, 3.18661866e-02, 8.90424715e-02,\n",
       "       8.43609207e-01, 6.66621191e-01, 6.70315786e-01, 3.20008052e-01,\n",
       "       2.35697662e-01, 1.15778866e-01, 8.92957780e-01, 4.48020145e-01,\n",
       "       7.06889109e-01, 1.22462273e-01, 1.30032579e-01, 7.43917272e-02,\n",
       "       4.56739357e-01, 8.35163020e-02, 4.75525509e-01, 2.65554862e-01,\n",
       "       8.70886446e-01, 5.63878467e-01, 2.14474306e-01, 8.12029734e-01,\n",
       "       8.13126992e-01, 1.72390557e-01, 8.30111117e-01, 5.25028646e-02,\n",
       "       7.95090786e-01, 4.27025215e-01, 7.14598949e-01, 8.48582313e-01,\n",
       "       8.31382141e-01, 8.78387956e-01, 2.55006796e-01, 3.16896912e-02,\n",
       "       8.77742921e-01, 1.13843469e-01, 4.29768678e-01, 6.39953587e-02,\n",
       "       2.63808726e-01, 7.44730437e-01, 8.68807193e-01, 9.94481755e-01,\n",
       "       7.49209882e-01, 6.40325163e-01, 5.38831210e-01, 1.93957932e-01,\n",
       "       1.97704226e-01, 2.39216204e-01, 6.96177997e-01, 1.40618839e-01,\n",
       "       9.73485647e-01, 6.14751314e-01, 7.33245914e-01, 9.73274592e-01,\n",
       "       3.96769496e-01, 2.27622269e-01, 5.25208267e-01, 7.67105228e-01,\n",
       "       5.63157468e-01, 8.85672497e-01, 5.27993451e-01, 5.54484594e-02,\n",
       "       1.09591552e-02, 3.55732254e-01, 1.26451949e-01, 8.28758039e-01,\n",
       "       2.80393731e-01, 6.07045729e-01, 1.12912397e-01, 3.68912996e-01,\n",
       "       1.18634327e-02, 2.68293035e-01, 8.35867545e-02, 7.98619290e-02,\n",
       "       5.44650032e-01, 9.90550234e-01, 8.92057534e-01, 8.37498202e-02,\n",
       "       6.79804010e-01, 1.81250946e-02, 9.91833444e-01, 6.73747040e-01,\n",
       "       2.73756152e-01, 9.88795410e-02, 8.22376082e-01, 9.84067979e-02,\n",
       "       8.48934898e-01, 4.05466439e-01, 5.20644198e-01, 8.83432877e-01,\n",
       "       4.11576839e-01, 7.20477213e-01, 1.75448384e-01, 4.93343077e-02,\n",
       "       7.20320716e-01, 1.23590615e-01, 2.96691126e-01, 3.04128688e-01,\n",
       "       9.44967747e-01, 7.51564323e-03, 7.41748245e-01, 6.33193908e-01,\n",
       "       4.55724152e-01, 2.08786891e-01, 7.72582611e-02, 3.95923248e-01,\n",
       "       6.30276033e-01, 1.75034016e-01, 4.73827023e-01, 6.01141436e-01,\n",
       "       4.58521127e-01, 6.10272705e-01, 8.52365075e-01, 5.52569838e-01,\n",
       "       3.92938941e-01, 3.14186750e-01, 7.62408405e-01, 4.19600387e-01,\n",
       "       9.44225524e-01, 8.54757564e-01, 5.06263972e-02, 6.69255323e-01,\n",
       "       3.22802087e-01, 1.04099075e-01, 5.59590764e-01, 9.61738912e-01,\n",
       "       5.90213683e-01, 5.98748061e-02, 8.88063577e-01, 3.66142878e-01,\n",
       "       4.09818394e-01, 9.67857592e-01, 3.96680677e-01, 9.68066464e-01,\n",
       "       2.50284444e-01, 6.91596179e-01, 9.68104425e-01, 2.65071361e-01,\n",
       "       6.84894631e-01, 2.42838591e-02, 5.25854812e-01, 3.11942750e-01,\n",
       "       4.24447404e-01, 1.16887637e-01, 2.78696911e-01, 8.93879539e-01,\n",
       "       6.56692899e-03, 5.07786535e-03, 4.82567315e-02, 1.28645867e-01,\n",
       "       4.12804917e-01, 3.91880803e-01, 5.06999725e-01, 5.09443663e-01,\n",
       "       3.04036972e-01, 3.10447433e-01, 6.91176081e-01, 2.13230122e-01,\n",
       "       2.48008615e-01, 3.86122664e-01, 7.69263187e-01, 1.78112708e-01,\n",
       "       8.57769086e-01, 4.86623876e-01, 8.90826037e-01, 8.57515322e-01,\n",
       "       5.89246622e-01, 7.07542559e-01, 6.89749333e-01, 6.51345297e-01,\n",
       "       4.65608572e-01, 3.16771588e-02, 4.39016307e-01, 9.41655201e-01,\n",
       "       1.25884695e-01, 6.90977101e-01, 3.98343247e-01, 4.26110026e-01,\n",
       "       4.24484005e-02, 1.21342435e-02, 8.60353383e-01, 7.07388314e-01,\n",
       "       8.90128915e-02, 2.58344976e-01, 7.78423627e-01, 7.32784172e-01,\n",
       "       9.46686867e-01, 5.87527685e-01, 9.78264270e-01, 1.72563448e-01,\n",
       "       9.33997697e-01, 6.53481361e-01, 4.25218380e-01, 7.21283900e-01,\n",
       "       4.41079816e-01, 2.46282064e-01, 2.13787968e-01, 2.73942076e-01,\n",
       "       4.39917967e-01, 5.41729621e-01, 1.93761067e-01, 8.02851213e-01,\n",
       "       2.91907428e-01, 5.85016022e-01, 3.01181562e-02, 1.66050865e-01,\n",
       "       1.00992321e-01, 4.64007229e-01, 1.23805397e-01, 6.80101893e-01,\n",
       "       7.15872246e-01, 4.12908752e-01, 5.72233778e-01, 2.62219771e-01,\n",
       "       7.79960189e-01, 9.75017423e-01, 7.24853742e-01, 3.14292692e-01,\n",
       "       7.21152013e-01, 1.89423525e-01, 7.93121175e-01, 2.22099464e-02,\n",
       "       1.22190157e-02, 6.12159392e-01, 2.02754509e-01, 8.66136993e-01,\n",
       "       9.53877102e-01, 3.20997471e-01, 4.33091083e-01, 7.84274646e-01,\n",
       "       3.66654447e-01, 8.53751430e-01, 3.36867744e-02, 9.24820370e-01])"
      ]
     },
     "execution_count": 33,
     "metadata": {},
     "output_type": "execute_result"
    }
   ],
   "source": [
    "# Solution goes here\n",
    "x = np.random.random(1000)\n",
    "x"
   ]
  },
  {
   "cell_type": "code",
   "execution_count": 34,
   "metadata": {},
   "outputs": [
    {
     "data": {
      "image/png": "[encoded data removed]",
      "text/plain": [
       "<Figure size 432x288 with 1 Axes>"
      ]
     },
     "metadata": {
      "needs_background": "light"
     },
     "output_type": "display_data"
    }
   ],
   "source": [
    "#Plotting their PMF\n",
    "pmf = thinkstats2.Pmf(x)\n",
    "thinkplot.Pmf(pmf, linewidth=0.1)\n",
    "thinkplot.Config(xlabel='Random variate', ylabel='PMF')"
   ]
  },
  {
   "cell_type": "code",
   "execution_count": 35,
   "metadata": {},
   "outputs": [
    {
     "data": {
      "image/png": "[encoded data removed]",
      "text/plain": [
       "<Figure size 432x288 with 1 Axes>"
      ]
     },
     "metadata": {
      "needs_background": "light"
     },
     "output_type": "display_data"
    }
   ],
   "source": [
    "# Plotting their CDF\n",
    "cdf = thinkstats2.Cdf(x)\n",
    "thinkplot.Cdf(cdf)\n",
    "thinkplot.Config(xlabel='Random variate', ylabel='CDF')"
   ]
  },
  {
   "cell_type": "code",
   "execution_count": null,
   "metadata": {},
   "outputs": [],
   "source": [
    "#The PMF is verical and the CDF is diagonal, making this a uniform distribution."
   ]
  }
 ],
 "metadata": {
  "kernelspec": {
   "display_name": "Python 3",
   "language": "python",
   "name": "python3"
  },
  "language_info": {
   "codemirror_mode": {
    "name": "ipython",
    "version": 3
   },
   "file_extension": ".py",
   "mimetype": "text/x-python",
   "name": "python",
   "nbconvert_exporter": "python",
   "pygments_lexer": "ipython3",
   "version": "3.7.6"
  }
 },
 "nbformat": 4,
 "nbformat_minor": 1
}
